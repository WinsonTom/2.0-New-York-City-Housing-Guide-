{
 "cells": [
  {
   "cell_type": "code",
   "execution_count": 113,
   "id": "d7b68bfa",
   "metadata": {},
   "outputs": [],
   "source": [
    "import pandas as pd\n",
    "import numpy as np\n",
    "import os"
   ]
  },
  {
   "cell_type": "markdown",
   "id": "1c5be35e",
   "metadata": {},
   "source": [
    "## Answering Business Question #8 of What is the population density of my neighborhood?"
   ]
  },
  {
   "cell_type": "code",
   "execution_count": 114,
   "id": "5a176e8f",
   "metadata": {},
   "outputs": [],
   "source": [
    "#Population Density is important to know as home buyers as you want to know just how packed is your neighborhood \n",
    "#and how this compare to other areas. Individuals looking for a more spacious area will not want a high density area."
   ]
  },
  {
   "cell_type": "code",
   "execution_count": 115,
   "id": "47626d02",
   "metadata": {},
   "outputs": [],
   "source": [
    "#Loading Data frame\n",
    "\n",
    "#xlsx file instead of csv so using this method of loading\n",
    "\n",
    "#New file specifically for finding population density first\n",
    "\n",
    "DF = pd.read_excel('/Users/winsontom/Desktop/Career Foundry/Part 8- Final CF Immersion/2.0 Project/2.0 Data/Population Density.xlsx', sheet_name='Sheet1')"
   ]
  },
  {
   "cell_type": "code",
   "execution_count": 116,
   "id": "d249e8e2",
   "metadata": {},
   "outputs": [
    {
     "data": {
      "text/html": [
       "<div>\n",
       "<style scoped>\n",
       "    .dataframe tbody tr th:only-of-type {\n",
       "        vertical-align: middle;\n",
       "    }\n",
       "\n",
       "    .dataframe tbody tr th {\n",
       "        vertical-align: top;\n",
       "    }\n",
       "\n",
       "    .dataframe thead th {\n",
       "        text-align: right;\n",
       "    }\n",
       "</style>\n",
       "<table border=\"1\" class=\"dataframe\">\n",
       "  <thead>\n",
       "    <tr style=\"text-align: right;\">\n",
       "      <th></th>\n",
       "      <th>Address</th>\n",
       "      <th>Neighborhood</th>\n",
       "    </tr>\n",
       "  </thead>\n",
       "  <tbody>\n",
       "    <tr>\n",
       "      <th>0</th>\n",
       "      <td>2 E 55th St Unit 803New York, NY 10022</td>\n",
       "      <td>Gramercy Park</td>\n",
       "    </tr>\n",
       "    <tr>\n",
       "      <th>1</th>\n",
       "      <td>Central Park Tower Penthouse-217 W 57th New Yo...</td>\n",
       "      <td>Chelsea</td>\n",
       "    </tr>\n",
       "    <tr>\n",
       "      <th>2</th>\n",
       "      <td>620 Sinclair AveStaten Island, NY 10312</td>\n",
       "      <td>South Shore</td>\n",
       "    </tr>\n",
       "    <tr>\n",
       "      <th>3</th>\n",
       "      <td>2 E 55th St Unit 908W33Manhattan, NY 10022</td>\n",
       "      <td>Gramercy Park</td>\n",
       "    </tr>\n",
       "    <tr>\n",
       "      <th>4</th>\n",
       "      <td>5 E 64th StNew York, NY 10065</td>\n",
       "      <td>Upper East Side</td>\n",
       "    </tr>\n",
       "    <tr>\n",
       "      <th>5</th>\n",
       "      <td>584 Park PlBrooklyn, NY 11238</td>\n",
       "      <td>Central Brooklyn</td>\n",
       "    </tr>\n",
       "    <tr>\n",
       "      <th>6</th>\n",
       "      <td>157 W 126th St Unit 1BNew York, NY 10027</td>\n",
       "      <td>Central Harlem</td>\n",
       "    </tr>\n",
       "    <tr>\n",
       "      <th>7</th>\n",
       "      <td>177 Benedict RdStaten Island, NY 10304</td>\n",
       "      <td>Stapleton</td>\n",
       "    </tr>\n",
       "    <tr>\n",
       "      <th>8</th>\n",
       "      <td>875 Morrison Ave Apt 3MBronx, NY 10473</td>\n",
       "      <td>Southeast Bronx</td>\n",
       "    </tr>\n",
       "    <tr>\n",
       "      <th>9</th>\n",
       "      <td>1350 Ocean Pkwy Apt 5GBrooklyn, NY 11230</td>\n",
       "      <td>Borough Park</td>\n",
       "    </tr>\n",
       "  </tbody>\n",
       "</table>\n",
       "</div>"
      ],
      "text/plain": [
       "                                             Address      Neighborhood\n",
       "0             2 E 55th St Unit 803New York, NY 10022     Gramercy Park\n",
       "1  Central Park Tower Penthouse-217 W 57th New Yo...           Chelsea\n",
       "2            620 Sinclair AveStaten Island, NY 10312       South Shore\n",
       "3         2 E 55th St Unit 908W33Manhattan, NY 10022     Gramercy Park\n",
       "4                      5 E 64th StNew York, NY 10065   Upper East Side\n",
       "5                      584 Park PlBrooklyn, NY 11238  Central Brooklyn\n",
       "6           157 W 126th St Unit 1BNew York, NY 10027    Central Harlem\n",
       "7             177 Benedict RdStaten Island, NY 10304         Stapleton\n",
       "8             875 Morrison Ave Apt 3MBronx, NY 10473   Southeast Bronx\n",
       "9           1350 Ocean Pkwy Apt 5GBrooklyn, NY 11230      Borough Park"
      ]
     },
     "execution_count": 116,
     "metadata": {},
     "output_type": "execute_result"
    }
   ],
   "source": [
    "#Checking file loaded\n",
    "\n",
    "DF.head(10)"
   ]
  },
  {
   "cell_type": "code",
   "execution_count": 117,
   "id": "13ca1975",
   "metadata": {},
   "outputs": [],
   "source": [
    "#Create a new columns within our DF\n",
    "\n",
    "DF['Population'] = 'NaN'"
   ]
  },
  {
   "cell_type": "code",
   "execution_count": 118,
   "id": "4e81140f",
   "metadata": {},
   "outputs": [],
   "source": [
    "DF['Square Miles'] = 'NaN'"
   ]
  },
  {
   "cell_type": "code",
   "execution_count": 119,
   "id": "a6482cac",
   "metadata": {},
   "outputs": [
    {
     "data": {
      "text/html": [
       "<div>\n",
       "<style scoped>\n",
       "    .dataframe tbody tr th:only-of-type {\n",
       "        vertical-align: middle;\n",
       "    }\n",
       "\n",
       "    .dataframe tbody tr th {\n",
       "        vertical-align: top;\n",
       "    }\n",
       "\n",
       "    .dataframe thead th {\n",
       "        text-align: right;\n",
       "    }\n",
       "</style>\n",
       "<table border=\"1\" class=\"dataframe\">\n",
       "  <thead>\n",
       "    <tr style=\"text-align: right;\">\n",
       "      <th></th>\n",
       "      <th>Address</th>\n",
       "      <th>Neighborhood</th>\n",
       "      <th>Population</th>\n",
       "      <th>Square Miles</th>\n",
       "    </tr>\n",
       "  </thead>\n",
       "  <tbody>\n",
       "    <tr>\n",
       "      <th>0</th>\n",
       "      <td>2 E 55th St Unit 803New York, NY 10022</td>\n",
       "      <td>Gramercy Park</td>\n",
       "      <td>NaN</td>\n",
       "      <td>NaN</td>\n",
       "    </tr>\n",
       "    <tr>\n",
       "      <th>1</th>\n",
       "      <td>Central Park Tower Penthouse-217 W 57th New Yo...</td>\n",
       "      <td>Chelsea</td>\n",
       "      <td>NaN</td>\n",
       "      <td>NaN</td>\n",
       "    </tr>\n",
       "    <tr>\n",
       "      <th>2</th>\n",
       "      <td>620 Sinclair AveStaten Island, NY 10312</td>\n",
       "      <td>South Shore</td>\n",
       "      <td>NaN</td>\n",
       "      <td>NaN</td>\n",
       "    </tr>\n",
       "    <tr>\n",
       "      <th>3</th>\n",
       "      <td>2 E 55th St Unit 908W33Manhattan, NY 10022</td>\n",
       "      <td>Gramercy Park</td>\n",
       "      <td>NaN</td>\n",
       "      <td>NaN</td>\n",
       "    </tr>\n",
       "    <tr>\n",
       "      <th>4</th>\n",
       "      <td>5 E 64th StNew York, NY 10065</td>\n",
       "      <td>Upper East Side</td>\n",
       "      <td>NaN</td>\n",
       "      <td>NaN</td>\n",
       "    </tr>\n",
       "  </tbody>\n",
       "</table>\n",
       "</div>"
      ],
      "text/plain": [
       "                                             Address     Neighborhood  \\\n",
       "0             2 E 55th St Unit 803New York, NY 10022    Gramercy Park   \n",
       "1  Central Park Tower Penthouse-217 W 57th New Yo...          Chelsea   \n",
       "2            620 Sinclair AveStaten Island, NY 10312      South Shore   \n",
       "3         2 E 55th St Unit 908W33Manhattan, NY 10022    Gramercy Park   \n",
       "4                      5 E 64th StNew York, NY 10065  Upper East Side   \n",
       "\n",
       "  Population Square Miles  \n",
       "0        NaN          NaN  \n",
       "1        NaN          NaN  \n",
       "2        NaN          NaN  \n",
       "3        NaN          NaN  \n",
       "4        NaN          NaN  "
      ]
     },
     "execution_count": 119,
     "metadata": {},
     "output_type": "execute_result"
    }
   ],
   "source": [
    "#Check to see column was created\n",
    "\n",
    "DF.head(5)"
   ]
  },
  {
   "cell_type": "code",
   "execution_count": 120,
   "id": "dd6a0cff",
   "metadata": {},
   "outputs": [],
   "source": [
    "#Data source for population: \n",
    "#https://data.cityofnewyork.us/City-Government/New-York-City-Population-By-Neighborhood-Tabulatio/swpk-hqdp/about_data\n",
    "#"
   ]
  },
  {
   "cell_type": "markdown",
   "id": "efedec69",
   "metadata": {},
   "source": [
    "## Filling out Population column with Population Data"
   ]
  },
  {
   "cell_type": "code",
   "execution_count": 121,
   "id": "53911fc0",
   "metadata": {},
   "outputs": [],
   "source": [
    "DF.loc[DF['Neighborhood'] =='Borough Park', 'Population'] = '106357'"
   ]
  },
  {
   "cell_type": "code",
   "execution_count": 122,
   "id": "faf0c870",
   "metadata": {},
   "outputs": [],
   "source": [
    "DF.loc[DF['Neighborhood'] =='Canarsie', 'Population'] = '83693'"
   ]
  },
  {
   "cell_type": "code",
   "execution_count": 123,
   "id": "8a7d5e95",
   "metadata": {},
   "outputs": [],
   "source": [
    "DF.loc[DF['Neighborhood'] =='Central Bronx', 'Population'] = '164000'"
   ]
  },
  {
   "cell_type": "code",
   "execution_count": 124,
   "id": "d829d223",
   "metadata": {},
   "outputs": [],
   "source": [
    "DF.loc[DF['Neighborhood'] =='Central Brooklyn', 'Population'] = '340000'"
   ]
  },
  {
   "cell_type": "code",
   "execution_count": 125,
   "id": "55c32a66",
   "metadata": {},
   "outputs": [],
   "source": [
    "DF.loc[DF['Neighborhood'] =='Central Harlem', 'Population'] = '118665'"
   ]
  },
  {
   "cell_type": "code",
   "execution_count": 126,
   "id": "f03e0f15",
   "metadata": {},
   "outputs": [],
   "source": [
    "DF.loc[DF['Neighborhood'] =='Central Queens', 'Population'] = '240000'"
   ]
  },
  {
   "cell_type": "code",
   "execution_count": 127,
   "id": "64c16cd0",
   "metadata": {},
   "outputs": [],
   "source": [
    "DF.loc[DF['Neighborhood'] =='Chelsea', 'Population'] = '70150'"
   ]
  },
  {
   "cell_type": "code",
   "execution_count": 128,
   "id": "72f53c68",
   "metadata": {},
   "outputs": [],
   "source": [
    "DF.loc[DF['Neighborhood'] =='East Harlem', 'Population'] = '115921'"
   ]
  },
  {
   "cell_type": "code",
   "execution_count": 129,
   "id": "cb330389",
   "metadata": {},
   "outputs": [],
   "source": [
    "DF.loc[DF['Neighborhood'] =='East New York', 'Population'] = '91958'"
   ]
  },
  {
   "cell_type": "code",
   "execution_count": 130,
   "id": "5312693a",
   "metadata": {},
   "outputs": [],
   "source": [
    "DF.loc[DF['Neighborhood'] =='Flatbush', 'Population'] = '156159'"
   ]
  },
  {
   "cell_type": "code",
   "execution_count": 131,
   "id": "d572f52c",
   "metadata": {},
   "outputs": [],
   "source": [
    "DF.loc[DF['Neighborhood'] =='Fordham', 'Population'] = '82677'"
   ]
  },
  {
   "cell_type": "code",
   "execution_count": 132,
   "id": "a4c8ad7c",
   "metadata": {},
   "outputs": [],
   "source": [
    "DF.loc[DF['Neighborhood'] =='Gramercy Park', 'Population'] = '30000'"
   ]
  },
  {
   "cell_type": "code",
   "execution_count": 133,
   "id": "0fc82639",
   "metadata": {},
   "outputs": [],
   "source": [
    "DF.loc[DF['Neighborhood'] =='Greenpoint', 'Population'] = '34719'"
   ]
  },
  {
   "cell_type": "code",
   "execution_count": 134,
   "id": "97806379",
   "metadata": {},
   "outputs": [],
   "source": [
    "DF.loc[DF['Neighborhood'] =='High Bridge', 'Population'] = '87000'"
   ]
  },
  {
   "cell_type": "code",
   "execution_count": 135,
   "id": "d5aeb84c",
   "metadata": {},
   "outputs": [],
   "source": [
    "DF.loc[DF['Neighborhood'] =='Hunts Point', 'Population'] = '27204'"
   ]
  },
  {
   "cell_type": "code",
   "execution_count": 136,
   "id": "9e9e3746",
   "metadata": {},
   "outputs": [],
   "source": [
    "DF.loc[DF['Neighborhood'] =='Jamaica', 'Population'] = '217000'"
   ]
  },
  {
   "cell_type": "code",
   "execution_count": 137,
   "id": "7fdf7a37",
   "metadata": {},
   "outputs": [],
   "source": [
    "DF.loc[DF['Neighborhood'] =='Lower East Side', 'Population'] = '72957'"
   ]
  },
  {
   "cell_type": "code",
   "execution_count": 138,
   "id": "00f2b810",
   "metadata": {},
   "outputs": [],
   "source": [
    "DF.loc[DF['Neighborhood'] =='Lower Manhattan', 'Population'] = '60000'"
   ]
  },
  {
   "cell_type": "code",
   "execution_count": 139,
   "id": "017589a3",
   "metadata": {},
   "outputs": [],
   "source": [
    "DF.loc[DF['Neighborhood'] =='Mid Island', 'Population'] = '70000'"
   ]
  },
  {
   "cell_type": "code",
   "execution_count": 140,
   "id": "de3b1aa8",
   "metadata": {},
   "outputs": [],
   "source": [
    "DF.loc[DF['Neighborhood'] =='North Queens', 'Population'] = '230000'"
   ]
  },
  {
   "cell_type": "code",
   "execution_count": 141,
   "id": "683ff6bd",
   "metadata": {},
   "outputs": [],
   "source": [
    "DF.loc[DF['Neighborhood'] =='Northeast Bronx', 'Population'] = '215000'"
   ]
  },
  {
   "cell_type": "code",
   "execution_count": 142,
   "id": "00edb35d",
   "metadata": {},
   "outputs": [],
   "source": [
    "DF.loc[DF['Neighborhood'] =='Northeast Queens', 'Population'] = '195000'"
   ]
  },
  {
   "cell_type": "code",
   "execution_count": 143,
   "id": "f1bcfb98",
   "metadata": {},
   "outputs": [],
   "source": [
    "DF.loc[DF['Neighborhood'] =='Northwest Brooklyn', 'Population'] = '280000'"
   ]
  },
  {
   "cell_type": "code",
   "execution_count": 144,
   "id": "e3a1ed77",
   "metadata": {},
   "outputs": [],
   "source": [
    "DF.loc[DF['Neighborhood'] =='Northwest Queens', 'Population'] = '170000'"
   ]
  },
  {
   "cell_type": "code",
   "execution_count": 145,
   "id": "e7bf223f",
   "metadata": {},
   "outputs": [],
   "source": [
    "DF.loc[DF['Neighborhood'] =='Port Richmond', 'Population'] = '20191'"
   ]
  },
  {
   "cell_type": "code",
   "execution_count": 146,
   "id": "a0a808f0",
   "metadata": {},
   "outputs": [],
   "source": [
    "DF.loc[DF['Neighborhood'] =='Riverdale', 'Population'] = '27860'"
   ]
  },
  {
   "cell_type": "code",
   "execution_count": 147,
   "id": "46b6b713",
   "metadata": {},
   "outputs": [],
   "source": [
    "DF.loc[DF['Neighborhood'] =='Rockaway', 'Population'] = '130000'"
   ]
  },
  {
   "cell_type": "code",
   "execution_count": 148,
   "id": "020c8be4",
   "metadata": {},
   "outputs": [],
   "source": [
    "DF.loc[DF['Neighborhood'] =='Soho', 'Population'] = '42742'"
   ]
  },
  {
   "cell_type": "code",
   "execution_count": 149,
   "id": "639ad22f",
   "metadata": {},
   "outputs": [],
   "source": [
    "DF.loc[DF['Neighborhood'] =='South Brooklyn', 'Population'] = '290000'"
   ]
  },
  {
   "cell_type": "code",
   "execution_count": 150,
   "id": "7624ae18",
   "metadata": {},
   "outputs": [],
   "source": [
    "DF.loc[DF['Neighborhood'] =='South Shore', 'Population'] = '140000'"
   ]
  },
  {
   "cell_type": "code",
   "execution_count": 151,
   "id": "cabe22cb",
   "metadata": {},
   "outputs": [],
   "source": [
    "DF.loc[DF['Neighborhood'] =='Southeast Bronx', 'Population'] = '190000'"
   ]
  },
  {
   "cell_type": "code",
   "execution_count": 152,
   "id": "c33318a4",
   "metadata": {},
   "outputs": [],
   "source": [
    "DF.loc[DF['Neighborhood'] =='Southwest Brooklyn', 'Population'] = '310000'"
   ]
  },
  {
   "cell_type": "code",
   "execution_count": 153,
   "id": "8bdc9a96",
   "metadata": {},
   "outputs": [],
   "source": [
    "DF.loc[DF['Neighborhood'] =='Southwest Queens', 'Population'] = '250000'"
   ]
  },
  {
   "cell_type": "code",
   "execution_count": 154,
   "id": "0b813889",
   "metadata": {},
   "outputs": [],
   "source": [
    "DF.loc[DF['Neighborhood'] =='Stapleton', 'Population'] = '26453'"
   ]
  },
  {
   "cell_type": "code",
   "execution_count": 155,
   "id": "50c1ca55",
   "metadata": {},
   "outputs": [],
   "source": [
    "DF.loc[DF['Neighborhood'] =='Sunset Park', 'Population'] = '126381'"
   ]
  },
  {
   "cell_type": "code",
   "execution_count": 156,
   "id": "7e0a1724",
   "metadata": {},
   "outputs": [],
   "source": [
    "DF.loc[DF['Neighborhood'] =='Upper East Side', 'Population'] = '61207'"
   ]
  },
  {
   "cell_type": "code",
   "execution_count": 157,
   "id": "1ed18c66",
   "metadata": {},
   "outputs": [],
   "source": [
    "DF.loc[DF['Neighborhood'] =='Washington Heights', 'Population'] = '151574'"
   ]
  },
  {
   "cell_type": "code",
   "execution_count": 158,
   "id": "01e6f63b",
   "metadata": {},
   "outputs": [],
   "source": [
    "DF.loc[DF['Neighborhood'] =='West Central Queens', 'Population'] = '275000'"
   ]
  },
  {
   "cell_type": "code",
   "execution_count": 159,
   "id": "49a9df7f",
   "metadata": {},
   "outputs": [],
   "source": [
    "DF.loc[DF['Neighborhood'] =='West Queens', 'Population'] = '190000'"
   ]
  },
  {
   "cell_type": "code",
   "execution_count": 160,
   "id": "04757730",
   "metadata": {},
   "outputs": [],
   "source": [
    "DF.loc[DF['Neighborhood'] =='Williamsburg', 'Population'] = '67084'"
   ]
  },
  {
   "cell_type": "code",
   "execution_count": 161,
   "id": "07a779c9",
   "metadata": {},
   "outputs": [
    {
     "data": {
      "text/html": [
       "<div>\n",
       "<style scoped>\n",
       "    .dataframe tbody tr th:only-of-type {\n",
       "        vertical-align: middle;\n",
       "    }\n",
       "\n",
       "    .dataframe tbody tr th {\n",
       "        vertical-align: top;\n",
       "    }\n",
       "\n",
       "    .dataframe thead th {\n",
       "        text-align: right;\n",
       "    }\n",
       "</style>\n",
       "<table border=\"1\" class=\"dataframe\">\n",
       "  <thead>\n",
       "    <tr style=\"text-align: right;\">\n",
       "      <th></th>\n",
       "      <th>Address</th>\n",
       "      <th>Neighborhood</th>\n",
       "      <th>Population</th>\n",
       "      <th>Square Miles</th>\n",
       "    </tr>\n",
       "  </thead>\n",
       "  <tbody>\n",
       "    <tr>\n",
       "      <th>0</th>\n",
       "      <td>2 E 55th St Unit 803New York, NY 10022</td>\n",
       "      <td>Gramercy Park</td>\n",
       "      <td>30000</td>\n",
       "      <td>NaN</td>\n",
       "    </tr>\n",
       "    <tr>\n",
       "      <th>1</th>\n",
       "      <td>Central Park Tower Penthouse-217 W 57th New Yo...</td>\n",
       "      <td>Chelsea</td>\n",
       "      <td>70150</td>\n",
       "      <td>NaN</td>\n",
       "    </tr>\n",
       "    <tr>\n",
       "      <th>2</th>\n",
       "      <td>620 Sinclair AveStaten Island, NY 10312</td>\n",
       "      <td>South Shore</td>\n",
       "      <td>140000</td>\n",
       "      <td>NaN</td>\n",
       "    </tr>\n",
       "    <tr>\n",
       "      <th>3</th>\n",
       "      <td>2 E 55th St Unit 908W33Manhattan, NY 10022</td>\n",
       "      <td>Gramercy Park</td>\n",
       "      <td>30000</td>\n",
       "      <td>NaN</td>\n",
       "    </tr>\n",
       "    <tr>\n",
       "      <th>4</th>\n",
       "      <td>5 E 64th StNew York, NY 10065</td>\n",
       "      <td>Upper East Side</td>\n",
       "      <td>61207</td>\n",
       "      <td>NaN</td>\n",
       "    </tr>\n",
       "    <tr>\n",
       "      <th>5</th>\n",
       "      <td>584 Park PlBrooklyn, NY 11238</td>\n",
       "      <td>Central Brooklyn</td>\n",
       "      <td>340000</td>\n",
       "      <td>NaN</td>\n",
       "    </tr>\n",
       "    <tr>\n",
       "      <th>6</th>\n",
       "      <td>157 W 126th St Unit 1BNew York, NY 10027</td>\n",
       "      <td>Central Harlem</td>\n",
       "      <td>118665</td>\n",
       "      <td>NaN</td>\n",
       "    </tr>\n",
       "    <tr>\n",
       "      <th>7</th>\n",
       "      <td>177 Benedict RdStaten Island, NY 10304</td>\n",
       "      <td>Stapleton</td>\n",
       "      <td>26453</td>\n",
       "      <td>NaN</td>\n",
       "    </tr>\n",
       "    <tr>\n",
       "      <th>8</th>\n",
       "      <td>875 Morrison Ave Apt 3MBronx, NY 10473</td>\n",
       "      <td>Southeast Bronx</td>\n",
       "      <td>190000</td>\n",
       "      <td>NaN</td>\n",
       "    </tr>\n",
       "    <tr>\n",
       "      <th>9</th>\n",
       "      <td>1350 Ocean Pkwy Apt 5GBrooklyn, NY 11230</td>\n",
       "      <td>Borough Park</td>\n",
       "      <td>106357</td>\n",
       "      <td>NaN</td>\n",
       "    </tr>\n",
       "  </tbody>\n",
       "</table>\n",
       "</div>"
      ],
      "text/plain": [
       "                                             Address      Neighborhood  \\\n",
       "0             2 E 55th St Unit 803New York, NY 10022     Gramercy Park   \n",
       "1  Central Park Tower Penthouse-217 W 57th New Yo...           Chelsea   \n",
       "2            620 Sinclair AveStaten Island, NY 10312       South Shore   \n",
       "3         2 E 55th St Unit 908W33Manhattan, NY 10022     Gramercy Park   \n",
       "4                      5 E 64th StNew York, NY 10065   Upper East Side   \n",
       "5                      584 Park PlBrooklyn, NY 11238  Central Brooklyn   \n",
       "6           157 W 126th St Unit 1BNew York, NY 10027    Central Harlem   \n",
       "7             177 Benedict RdStaten Island, NY 10304         Stapleton   \n",
       "8             875 Morrison Ave Apt 3MBronx, NY 10473   Southeast Bronx   \n",
       "9           1350 Ocean Pkwy Apt 5GBrooklyn, NY 11230      Borough Park   \n",
       "\n",
       "  Population Square Miles  \n",
       "0      30000          NaN  \n",
       "1      70150          NaN  \n",
       "2     140000          NaN  \n",
       "3      30000          NaN  \n",
       "4      61207          NaN  \n",
       "5     340000          NaN  \n",
       "6     118665          NaN  \n",
       "7      26453          NaN  \n",
       "8     190000          NaN  \n",
       "9     106357          NaN  "
      ]
     },
     "execution_count": 161,
     "metadata": {},
     "output_type": "execute_result"
    }
   ],
   "source": [
    "DF.head(10)"
   ]
  },
  {
   "cell_type": "markdown",
   "id": "8e48fa31",
   "metadata": {},
   "source": [
    "## Filling out Square Mile Column"
   ]
  },
  {
   "cell_type": "code",
   "execution_count": 162,
   "id": "8a4a7bdc",
   "metadata": {},
   "outputs": [],
   "source": [
    "DF.loc[DF['Neighborhood'] =='Borough Park', 'Square Miles'] = '3'"
   ]
  },
  {
   "cell_type": "code",
   "execution_count": 163,
   "id": "bb71cdca",
   "metadata": {},
   "outputs": [],
   "source": [
    "DF.loc[DF['Neighborhood'] =='Canarsie', 'Square Miles'] = '3'"
   ]
  },
  {
   "cell_type": "code",
   "execution_count": 164,
   "id": "fb157452",
   "metadata": {},
   "outputs": [],
   "source": [
    "DF.loc[DF['Neighborhood'] =='Central Bronx', 'Square Miles'] = '7'"
   ]
  },
  {
   "cell_type": "code",
   "execution_count": 165,
   "id": "b163fa09",
   "metadata": {},
   "outputs": [],
   "source": [
    "DF.loc[DF['Neighborhood'] =='Central Brooklyn', 'Square Miles'] = '6.5'"
   ]
  },
  {
   "cell_type": "code",
   "execution_count": 166,
   "id": "2795e75e",
   "metadata": {},
   "outputs": [],
   "source": [
    "DF.loc[DF['Neighborhood'] =='Central Harlem', 'Square Miles'] = '1.4'"
   ]
  },
  {
   "cell_type": "code",
   "execution_count": 167,
   "id": "363146dd",
   "metadata": {},
   "outputs": [],
   "source": [
    "DF.loc[DF['Neighborhood'] =='Central Queens', 'Square Miles'] = '12'"
   ]
  },
  {
   "cell_type": "code",
   "execution_count": 168,
   "id": "922d5e0e",
   "metadata": {},
   "outputs": [],
   "source": [
    "DF.loc[DF['Neighborhood'] =='Chelsea', 'Square Miles'] = '1'"
   ]
  },
  {
   "cell_type": "code",
   "execution_count": 169,
   "id": "c2df56b7",
   "metadata": {},
   "outputs": [],
   "source": [
    "DF.loc[DF['Neighborhood'] =='East Harlem', 'Square Miles'] = '1.6'"
   ]
  },
  {
   "cell_type": "code",
   "execution_count": 170,
   "id": "f04c66ed",
   "metadata": {},
   "outputs": [],
   "source": [
    "DF.loc[DF['Neighborhood'] =='East New York', 'Square Miles'] = '5.6'"
   ]
  },
  {
   "cell_type": "code",
   "execution_count": 171,
   "id": "c1ae777c",
   "metadata": {},
   "outputs": [],
   "source": [
    "DF.loc[DF['Neighborhood'] =='Flatbush', 'Square Miles'] = '2.4'"
   ]
  },
  {
   "cell_type": "code",
   "execution_count": 172,
   "id": "4c9bbe60",
   "metadata": {},
   "outputs": [],
   "source": [
    "DF.loc[DF['Neighborhood'] =='Fordham', 'Square Miles'] = '1'"
   ]
  },
  {
   "cell_type": "code",
   "execution_count": 173,
   "id": "da14159f",
   "metadata": {},
   "outputs": [],
   "source": [
    "DF.loc[DF['Neighborhood'] =='Gramercy Park', 'Square Miles'] = '.6'"
   ]
  },
  {
   "cell_type": "code",
   "execution_count": 174,
   "id": "63cb3163",
   "metadata": {},
   "outputs": [],
   "source": [
    "DF.loc[DF['Neighborhood'] =='Green Point', 'Square Miles'] = '3.4'"
   ]
  },
  {
   "cell_type": "code",
   "execution_count": 175,
   "id": "a16c6746",
   "metadata": {},
   "outputs": [],
   "source": [
    "DF.loc[DF['Neighborhood'] =='High Bridge', 'Square Miles'] = '1'"
   ]
  },
  {
   "cell_type": "code",
   "execution_count": 176,
   "id": "2497005c",
   "metadata": {},
   "outputs": [],
   "source": [
    "DF.loc[DF['Neighborhood'] =='Hunts Point', 'Square Miles'] = '2'"
   ]
  },
  {
   "cell_type": "code",
   "execution_count": 177,
   "id": "61980f6b",
   "metadata": {},
   "outputs": [],
   "source": [
    "DF.loc[DF['Neighborhood'] =='Lower East Side', 'Square Miles'] = '1'"
   ]
  },
  {
   "cell_type": "code",
   "execution_count": 178,
   "id": "416e5d9a",
   "metadata": {},
   "outputs": [],
   "source": [
    "DF.loc[DF['Neighborhood'] =='Lower Manhattan', 'Square Miles'] = '1.5'"
   ]
  },
  {
   "cell_type": "code",
   "execution_count": 179,
   "id": "6cc721dd",
   "metadata": {},
   "outputs": [],
   "source": [
    "DF.loc[DF['Neighborhood'] =='Mid Island', 'Square Miles'] = '5.7'"
   ]
  },
  {
   "cell_type": "code",
   "execution_count": 180,
   "id": "cc573d20",
   "metadata": {},
   "outputs": [],
   "source": [
    "DF.loc[DF['Neighborhood'] =='North Queens', 'Square Miles'] = '11'"
   ]
  },
  {
   "cell_type": "code",
   "execution_count": 181,
   "id": "debd2ed1",
   "metadata": {},
   "outputs": [],
   "source": [
    "DF.loc[DF['Neighborhood'] =='Northeast Bronx', 'Square Miles'] = '8'"
   ]
  },
  {
   "cell_type": "code",
   "execution_count": 182,
   "id": "e7559d92",
   "metadata": {},
   "outputs": [],
   "source": [
    "DF.loc[DF['Neighborhood'] =='Northeast Queens', 'Square Miles'] = '7'"
   ]
  },
  {
   "cell_type": "code",
   "execution_count": 183,
   "id": "84b7f1d6",
   "metadata": {},
   "outputs": [],
   "source": [
    "DF.loc[DF['Neighborhood'] =='Port Richmond', 'Square Miles'] = '3'"
   ]
  },
  {
   "cell_type": "code",
   "execution_count": 184,
   "id": "efcc1fe6",
   "metadata": {},
   "outputs": [],
   "source": [
    "DF.loc[DF['Neighborhood'] =='Northeast Queens', 'Square Miles'] = '14'"
   ]
  },
  {
   "cell_type": "code",
   "execution_count": 185,
   "id": "e45c10c4",
   "metadata": {},
   "outputs": [],
   "source": [
    "DF.loc[DF['Neighborhood'] =='Northwest Brooklyn', 'Square Miles'] = '5'"
   ]
  },
  {
   "cell_type": "code",
   "execution_count": 186,
   "id": "64311815",
   "metadata": {},
   "outputs": [],
   "source": [
    "DF.loc[DF['Neighborhood'] =='Northwest Queens', 'Square Miles'] = '7'"
   ]
  },
  {
   "cell_type": "code",
   "execution_count": 187,
   "id": "5a515d47",
   "metadata": {},
   "outputs": [],
   "source": [
    "DF.loc[DF['Neighborhood'] =='Riverdale', 'Square Miles'] = '3'"
   ]
  },
  {
   "cell_type": "code",
   "execution_count": 188,
   "id": "1bbc396c",
   "metadata": {},
   "outputs": [],
   "source": [
    "DF.loc[DF['Neighborhood'] =='Rockaway', 'Square Miles'] = '7.1'"
   ]
  },
  {
   "cell_type": "code",
   "execution_count": 189,
   "id": "6f6421d9",
   "metadata": {},
   "outputs": [],
   "source": [
    "DF.loc[DF['Neighborhood'] =='Soho', 'Square Miles'] = '.25'"
   ]
  },
  {
   "cell_type": "code",
   "execution_count": 190,
   "id": "1c0138ab",
   "metadata": {},
   "outputs": [],
   "source": [
    "DF.loc[DF['Neighborhood'] =='South Brooklyn', 'Square Miles'] = '8'"
   ]
  },
  {
   "cell_type": "code",
   "execution_count": 191,
   "id": "cf96cf1c",
   "metadata": {},
   "outputs": [],
   "source": [
    "DF.loc[DF['Neighborhood'] =='South Shore', 'Square Miles'] = '20'"
   ]
  },
  {
   "cell_type": "code",
   "execution_count": 192,
   "id": "502c9a7d",
   "metadata": {},
   "outputs": [],
   "source": [
    "DF.loc[DF['Neighborhood'] =='Southeast Bronx', 'Square Miles'] = '5.5'"
   ]
  },
  {
   "cell_type": "code",
   "execution_count": 193,
   "id": "361266b4",
   "metadata": {},
   "outputs": [],
   "source": [
    "DF.loc[DF['Neighborhood'] =='Southwest Brooklyn', 'Square Miles'] = '5'"
   ]
  },
  {
   "cell_type": "code",
   "execution_count": 194,
   "id": "7b9d2a54",
   "metadata": {},
   "outputs": [],
   "source": [
    "DF.loc[DF['Neighborhood'] =='Southwest Queens', 'Square Miles'] = '6'"
   ]
  },
  {
   "cell_type": "code",
   "execution_count": 195,
   "id": "f6e22b6b",
   "metadata": {},
   "outputs": [],
   "source": [
    "DF.loc[DF['Neighborhood'] =='Stapleton', 'Square Miles'] = '4'"
   ]
  },
  {
   "cell_type": "code",
   "execution_count": 196,
   "id": "b832f095",
   "metadata": {},
   "outputs": [],
   "source": [
    "DF.loc[DF['Neighborhood'] =='Sunset Park', 'Square Miles'] = '2.5'"
   ]
  },
  {
   "cell_type": "code",
   "execution_count": 197,
   "id": "efa22df7",
   "metadata": {},
   "outputs": [],
   "source": [
    "DF.loc[DF['Neighborhood'] =='Upper East Side', 'Square Miles'] = '2'"
   ]
  },
  {
   "cell_type": "code",
   "execution_count": 198,
   "id": "879a3aaf",
   "metadata": {},
   "outputs": [],
   "source": [
    "DF.loc[DF['Neighborhood'] =='Washington Heights', 'Square Miles'] = '1.5'"
   ]
  },
  {
   "cell_type": "code",
   "execution_count": 199,
   "id": "e29a3ca8",
   "metadata": {},
   "outputs": [],
   "source": [
    "DF.loc[DF['Neighborhood'] =='West Central Queens', 'Square Miles'] = '7'"
   ]
  },
  {
   "cell_type": "code",
   "execution_count": 200,
   "id": "d625e18d",
   "metadata": {},
   "outputs": [],
   "source": [
    "DF.loc[DF['Neighborhood'] =='West Queens', 'Square Miles'] = '8'"
   ]
  },
  {
   "cell_type": "code",
   "execution_count": 201,
   "id": "09e5223f",
   "metadata": {},
   "outputs": [],
   "source": [
    "DF.loc[DF['Neighborhood'] =='Williamsburg', 'Square Miles'] = '2'"
   ]
  },
  {
   "cell_type": "code",
   "execution_count": 202,
   "id": "11043ac4",
   "metadata": {},
   "outputs": [
    {
     "data": {
      "text/html": [
       "<div>\n",
       "<style scoped>\n",
       "    .dataframe tbody tr th:only-of-type {\n",
       "        vertical-align: middle;\n",
       "    }\n",
       "\n",
       "    .dataframe tbody tr th {\n",
       "        vertical-align: top;\n",
       "    }\n",
       "\n",
       "    .dataframe thead th {\n",
       "        text-align: right;\n",
       "    }\n",
       "</style>\n",
       "<table border=\"1\" class=\"dataframe\">\n",
       "  <thead>\n",
       "    <tr style=\"text-align: right;\">\n",
       "      <th></th>\n",
       "      <th>Address</th>\n",
       "      <th>Neighborhood</th>\n",
       "      <th>Population</th>\n",
       "      <th>Square Miles</th>\n",
       "    </tr>\n",
       "  </thead>\n",
       "  <tbody>\n",
       "    <tr>\n",
       "      <th>0</th>\n",
       "      <td>2 E 55th St Unit 803New York, NY 10022</td>\n",
       "      <td>Gramercy Park</td>\n",
       "      <td>30000</td>\n",
       "      <td>.6</td>\n",
       "    </tr>\n",
       "    <tr>\n",
       "      <th>1</th>\n",
       "      <td>Central Park Tower Penthouse-217 W 57th New Yo...</td>\n",
       "      <td>Chelsea</td>\n",
       "      <td>70150</td>\n",
       "      <td>1</td>\n",
       "    </tr>\n",
       "    <tr>\n",
       "      <th>2</th>\n",
       "      <td>620 Sinclair AveStaten Island, NY 10312</td>\n",
       "      <td>South Shore</td>\n",
       "      <td>140000</td>\n",
       "      <td>20</td>\n",
       "    </tr>\n",
       "    <tr>\n",
       "      <th>3</th>\n",
       "      <td>2 E 55th St Unit 908W33Manhattan, NY 10022</td>\n",
       "      <td>Gramercy Park</td>\n",
       "      <td>30000</td>\n",
       "      <td>.6</td>\n",
       "    </tr>\n",
       "    <tr>\n",
       "      <th>4</th>\n",
       "      <td>5 E 64th StNew York, NY 10065</td>\n",
       "      <td>Upper East Side</td>\n",
       "      <td>61207</td>\n",
       "      <td>2</td>\n",
       "    </tr>\n",
       "    <tr>\n",
       "      <th>5</th>\n",
       "      <td>584 Park PlBrooklyn, NY 11238</td>\n",
       "      <td>Central Brooklyn</td>\n",
       "      <td>340000</td>\n",
       "      <td>6.5</td>\n",
       "    </tr>\n",
       "    <tr>\n",
       "      <th>6</th>\n",
       "      <td>157 W 126th St Unit 1BNew York, NY 10027</td>\n",
       "      <td>Central Harlem</td>\n",
       "      <td>118665</td>\n",
       "      <td>1.4</td>\n",
       "    </tr>\n",
       "    <tr>\n",
       "      <th>7</th>\n",
       "      <td>177 Benedict RdStaten Island, NY 10304</td>\n",
       "      <td>Stapleton</td>\n",
       "      <td>26453</td>\n",
       "      <td>4</td>\n",
       "    </tr>\n",
       "    <tr>\n",
       "      <th>8</th>\n",
       "      <td>875 Morrison Ave Apt 3MBronx, NY 10473</td>\n",
       "      <td>Southeast Bronx</td>\n",
       "      <td>190000</td>\n",
       "      <td>5.5</td>\n",
       "    </tr>\n",
       "    <tr>\n",
       "      <th>9</th>\n",
       "      <td>1350 Ocean Pkwy Apt 5GBrooklyn, NY 11230</td>\n",
       "      <td>Borough Park</td>\n",
       "      <td>106357</td>\n",
       "      <td>3</td>\n",
       "    </tr>\n",
       "  </tbody>\n",
       "</table>\n",
       "</div>"
      ],
      "text/plain": [
       "                                             Address      Neighborhood  \\\n",
       "0             2 E 55th St Unit 803New York, NY 10022     Gramercy Park   \n",
       "1  Central Park Tower Penthouse-217 W 57th New Yo...           Chelsea   \n",
       "2            620 Sinclair AveStaten Island, NY 10312       South Shore   \n",
       "3         2 E 55th St Unit 908W33Manhattan, NY 10022     Gramercy Park   \n",
       "4                      5 E 64th StNew York, NY 10065   Upper East Side   \n",
       "5                      584 Park PlBrooklyn, NY 11238  Central Brooklyn   \n",
       "6           157 W 126th St Unit 1BNew York, NY 10027    Central Harlem   \n",
       "7             177 Benedict RdStaten Island, NY 10304         Stapleton   \n",
       "8             875 Morrison Ave Apt 3MBronx, NY 10473   Southeast Bronx   \n",
       "9           1350 Ocean Pkwy Apt 5GBrooklyn, NY 11230      Borough Park   \n",
       "\n",
       "  Population Square Miles  \n",
       "0      30000           .6  \n",
       "1      70150            1  \n",
       "2     140000           20  \n",
       "3      30000           .6  \n",
       "4      61207            2  \n",
       "5     340000          6.5  \n",
       "6     118665          1.4  \n",
       "7      26453            4  \n",
       "8     190000          5.5  \n",
       "9     106357            3  "
      ]
     },
     "execution_count": 202,
     "metadata": {},
     "output_type": "execute_result"
    }
   ],
   "source": [
    "#Checking first 10 to see if square miles has been filled out\n",
    "\n",
    "DF.head(10)"
   ]
  },
  {
   "cell_type": "code",
   "execution_count": 203,
   "id": "9c92fa8e",
   "metadata": {},
   "outputs": [
    {
     "data": {
      "text/html": [
       "<div>\n",
       "<style scoped>\n",
       "    .dataframe tbody tr th:only-of-type {\n",
       "        vertical-align: middle;\n",
       "    }\n",
       "\n",
       "    .dataframe tbody tr th {\n",
       "        vertical-align: top;\n",
       "    }\n",
       "\n",
       "    .dataframe thead th {\n",
       "        text-align: right;\n",
       "    }\n",
       "</style>\n",
       "<table border=\"1\" class=\"dataframe\">\n",
       "  <thead>\n",
       "    <tr style=\"text-align: right;\">\n",
       "      <th></th>\n",
       "      <th>Address</th>\n",
       "      <th>Neighborhood</th>\n",
       "      <th>Population</th>\n",
       "      <th>Square Miles</th>\n",
       "    </tr>\n",
       "  </thead>\n",
       "  <tbody>\n",
       "    <tr>\n",
       "      <th>4544</th>\n",
       "      <td>342 E 53rd St Apt 6CNew York, NY 10022</td>\n",
       "      <td>Gramercy Park</td>\n",
       "      <td>30000</td>\n",
       "      <td>.6</td>\n",
       "    </tr>\n",
       "    <tr>\n",
       "      <th>4545</th>\n",
       "      <td>448 40th StBrooklyn, NY 11232</td>\n",
       "      <td>Sunset Park</td>\n",
       "      <td>126381</td>\n",
       "      <td>2.5</td>\n",
       "    </tr>\n",
       "    <tr>\n",
       "      <th>4546</th>\n",
       "      <td>700 Park Ave Unit 20ANew York, NY 10021</td>\n",
       "      <td>Upper East Side</td>\n",
       "      <td>61207</td>\n",
       "      <td>2</td>\n",
       "    </tr>\n",
       "    <tr>\n",
       "      <th>4547</th>\n",
       "      <td>2351 Adam Clayton Powell Jr Blvd Apt 614Manhat...</td>\n",
       "      <td>Central Harlem</td>\n",
       "      <td>118665</td>\n",
       "      <td>1.4</td>\n",
       "    </tr>\n",
       "    <tr>\n",
       "      <th>4548</th>\n",
       "      <td>2825-2827 W 15th StBrooklyn, NY 11224</td>\n",
       "      <td>South Brooklyn</td>\n",
       "      <td>290000</td>\n",
       "      <td>8</td>\n",
       "    </tr>\n",
       "    <tr>\n",
       "      <th>4549</th>\n",
       "      <td>222 E 80th St Apt 3AManhattan, NY 10075</td>\n",
       "      <td>Upper East Side</td>\n",
       "      <td>61207</td>\n",
       "      <td>2</td>\n",
       "    </tr>\n",
       "    <tr>\n",
       "      <th>4550</th>\n",
       "      <td>97-40 62 Dr Unit LgRego Park, NY 11374</td>\n",
       "      <td>West Central Queens</td>\n",
       "      <td>275000</td>\n",
       "      <td>7</td>\n",
       "    </tr>\n",
       "    <tr>\n",
       "      <th>4551</th>\n",
       "      <td>427 W 21st St Unit GardenNew York, NY 10011</td>\n",
       "      <td>Chelsea</td>\n",
       "      <td>70150</td>\n",
       "      <td>1</td>\n",
       "    </tr>\n",
       "    <tr>\n",
       "      <th>4552</th>\n",
       "      <td>91-23 Corona Ave Unit 4GElmhurst, NY 11373</td>\n",
       "      <td>West Queens</td>\n",
       "      <td>190000</td>\n",
       "      <td>8</td>\n",
       "    </tr>\n",
       "    <tr>\n",
       "      <th>4553</th>\n",
       "      <td>460 Neptune Ave Apt 14OBrooklyn, NY 11224</td>\n",
       "      <td>South Brooklyn</td>\n",
       "      <td>290000</td>\n",
       "      <td>8</td>\n",
       "    </tr>\n",
       "  </tbody>\n",
       "</table>\n",
       "</div>"
      ],
      "text/plain": [
       "                                                Address         Neighborhood  \\\n",
       "4544             342 E 53rd St Apt 6CNew York, NY 10022        Gramercy Park   \n",
       "4545                      448 40th StBrooklyn, NY 11232          Sunset Park   \n",
       "4546            700 Park Ave Unit 20ANew York, NY 10021      Upper East Side   \n",
       "4547  2351 Adam Clayton Powell Jr Blvd Apt 614Manhat...       Central Harlem   \n",
       "4548              2825-2827 W 15th StBrooklyn, NY 11224       South Brooklyn   \n",
       "4549            222 E 80th St Apt 3AManhattan, NY 10075      Upper East Side   \n",
       "4550             97-40 62 Dr Unit LgRego Park, NY 11374  West Central Queens   \n",
       "4551        427 W 21st St Unit GardenNew York, NY 10011              Chelsea   \n",
       "4552         91-23 Corona Ave Unit 4GElmhurst, NY 11373          West Queens   \n",
       "4553          460 Neptune Ave Apt 14OBrooklyn, NY 11224       South Brooklyn   \n",
       "\n",
       "     Population Square Miles  \n",
       "4544      30000           .6  \n",
       "4545     126381          2.5  \n",
       "4546      61207            2  \n",
       "4547     118665          1.4  \n",
       "4548     290000            8  \n",
       "4549      61207            2  \n",
       "4550     275000            7  \n",
       "4551      70150            1  \n",
       "4552     190000            8  \n",
       "4553     290000            8  "
      ]
     },
     "execution_count": 203,
     "metadata": {},
     "output_type": "execute_result"
    }
   ],
   "source": [
    "#Checking last 10 to see if square miles has been filled out\n",
    "\n",
    "DF.tail(10)"
   ]
  },
  {
   "cell_type": "code",
   "execution_count": 204,
   "id": "71bb08ce",
   "metadata": {},
   "outputs": [
    {
     "data": {
      "text/plain": [
       "Index(['Address', 'Neighborhood', 'Population', 'Square Miles'], dtype='object')"
      ]
     },
     "execution_count": 204,
     "metadata": {},
     "output_type": "execute_result"
    }
   ],
   "source": [
    "DF.columns"
   ]
  },
  {
   "cell_type": "code",
   "execution_count": 205,
   "id": "7d0ae539",
   "metadata": {},
   "outputs": [
    {
     "data": {
      "text/plain": [
       "Address         object\n",
       "Neighborhood    object\n",
       "Population      object\n",
       "Square Miles    object\n",
       "dtype: object"
      ]
     },
     "execution_count": 205,
     "metadata": {},
     "output_type": "execute_result"
    }
   ],
   "source": [
    "DF.dtypes"
   ]
  },
  {
   "cell_type": "code",
   "execution_count": 206,
   "id": "adf5a73f",
   "metadata": {},
   "outputs": [
    {
     "data": {
      "text/plain": [
       "Address         0\n",
       "Neighborhood    0\n",
       "Population      0\n",
       "Square Miles    0\n",
       "dtype: int64"
      ]
     },
     "execution_count": 206,
     "metadata": {},
     "output_type": "execute_result"
    }
   ],
   "source": [
    "DF.isna().sum()"
   ]
  },
  {
   "cell_type": "code",
   "execution_count": 207,
   "id": "5c75e164",
   "metadata": {},
   "outputs": [],
   "source": [
    "DF.to_excel(r'/Users/winsontom/Desktop/Career Foundry/Part 8- Final CF Immersion/2.0 Project/Population_Density.xlsx', index=False)"
   ]
  },
  {
   "cell_type": "code",
   "execution_count": null,
   "id": "5bb02712",
   "metadata": {},
   "outputs": [],
   "source": []
  },
  {
   "cell_type": "code",
   "execution_count": null,
   "id": "86b29705",
   "metadata": {},
   "outputs": [],
   "source": []
  },
  {
   "cell_type": "code",
   "execution_count": null,
   "id": "b565a838",
   "metadata": {},
   "outputs": [],
   "source": []
  }
 ],
 "metadata": {
  "kernelspec": {
   "display_name": "Python 3 (ipykernel)",
   "language": "python",
   "name": "python3"
  },
  "language_info": {
   "codemirror_mode": {
    "name": "ipython",
    "version": 3
   },
   "file_extension": ".py",
   "mimetype": "text/x-python",
   "name": "python",
   "nbconvert_exporter": "python",
   "pygments_lexer": "ipython3",
   "version": "3.11.5"
  }
 },
 "nbformat": 4,
 "nbformat_minor": 5
}
