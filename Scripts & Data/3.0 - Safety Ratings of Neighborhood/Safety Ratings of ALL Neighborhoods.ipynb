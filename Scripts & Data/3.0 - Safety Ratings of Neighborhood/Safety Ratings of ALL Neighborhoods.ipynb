{
 "cells": [
  {
   "cell_type": "code",
   "execution_count": 1,
   "id": "c5392682",
   "metadata": {},
   "outputs": [],
   "source": [
    "import pandas as pd\n",
    "import numpy as np\n",
    "import os"
   ]
  },
  {
   "cell_type": "markdown",
   "id": "3d9f259f",
   "metadata": {},
   "source": [
    "## CREATE a new DF "
   ]
  },
  {
   "cell_type": "code",
   "execution_count": 2,
   "id": "eabfc3cc",
   "metadata": {},
   "outputs": [],
   "source": [
    "#No Data to load in this time, creating data frame from scratch\n",
    "#Input the Neighborhoods\n",
    "\n",
    "Neighborhoods = [\n",
    "    \"Allerton\", \"Astoria\", \"Bath Beach\", \"Battery Park City\", \"Bay Ridge\", \"Baychester\", \n",
    "    \"Bayside\", \"Bedford-Stuyvesant\", \"Bellerose\", \"Belmont\", \"Bensonhurst\", \"Boerum Hill\", \n",
    "    \"Borough Park\", \"Brighton Beach\", \"Brooklyn Heights\", \"Brownsville\", \"Cambria Heights\", \n",
    "    \"Canarsie\", \"Carroll Gardens\", \"Castle Hill\", \"Chelsea\", \"City Island\", \"Clason Point\", \n",
    "    \"Clinton Hill\", \"Co-op City\", \"Cobble Hill\", \"College Point\", \"Coney Island\", \"Corona\", \n",
    "    \"Country Club\", \"Crotona Park East\", \"Crown Heights\", \"Douglaston\", \"Dumbo\", \"Dyker Heights\", \n",
    "    \"East Harlem\", \"East New York\", \"East Village\", \"Edenwald\", \"Elmhurst\", \"Financial District\", \n",
    "    \"Flatbush\", \"Floral Park\", \"Flushing\", \"Fordham\", \"Fordham Heights\", \"Forest Hills\", \n",
    "    \"Fort Greene\", \"Fort Hamilton\", \"Fresh Meadows\", \"Gerritsen Beach\", \"Glen Oaks\", \"Glendale\", \n",
    "    \"Gowanus\", \"Gramercy Park\", \"Gravesend\", \"Green Point\", \"Greenwich Village\", \"Greenwood\", \n",
    "    \"Harding Park\", \"Harlem\", \"High Bridge\", \"Homecrest\", \"Howard Beach\", \"Hunters Point\", \n",
    "    \"Hunts Point\", \"Jackson Heights\", \"Jamaica\", \"Kew Gardens\", \"Little Neck\", \"Locust Point\", \n",
    "    \"Long Island City\", \"Lower East Side\", \"Malba\", \"Manhattan Beach\", \"Marine Park\", \"Maspeth\", \n",
    "    \"Mid Island\", \"Middle Village\", \"Midwood\", \"Morningside Heights\", \"Morris Heights\", \"Morris Park\", \n",
    "    \"New Hyde park\", \"NoHo\", \"Ocean Hill\", \"Ozone Park\", \"Park Slope\", \"Parkchester\", \"Pelham Bay\", \n",
    "    \"Pelham Gardens\", \"Pelham Parkway\", \"Port Richmond\", \"Prospect Heights\", \"Prospect Park\", \n",
    "    \"Queens Village\", \"Red Hook\", \"Rego Park\", \"Richmond Hill\", \"Ridgewood\", \"Riverdale\", \"Rockaway\", \n",
    "    \"Rosedale\", \"Schuylerville\", \"Seagate\", \"Sheepshead Bay\", \"Soho\", \"Soundview\", \"South Shore\", \n",
    "    \"South Street Seaport\", \"Springfield\", \"Springfield Gardens\", \"Stapleton\", \"Stuyvesant Heights\", \n",
    "    \"Sunnyside\", \"Sunset Park\", \"Throggs Neck\", \"Tremont\", \"Tribeca\", \"Two Bridges\", \"Upper East Side\", \n",
    "    \"Upper West Side\", \"Van Nest\", \"Vinegar Hill\", \"Wakefield\", \"Washington Heights\", \"West Farms\", \n",
    "    \"Westchester Square\", \"Whitestone\", \"Williamsbridge\", \"Williamsburg\", \"Windsor Terrace\", \n",
    "    \"Woodhaven\", \"Woodlawn\", \"Woodside\"\n",
    "]"
   ]
  },
  {
   "cell_type": "code",
   "execution_count": 3,
   "id": "43fb3f56",
   "metadata": {},
   "outputs": [],
   "source": [
    "DF = pd.DataFrame(Neighborhoods, columns=[\"Neighborhood\"])"
   ]
  },
  {
   "cell_type": "code",
   "execution_count": 5,
   "id": "c057c9ee",
   "metadata": {},
   "outputs": [
    {
     "data": {
      "text/html": [
       "<div>\n",
       "<style scoped>\n",
       "    .dataframe tbody tr th:only-of-type {\n",
       "        vertical-align: middle;\n",
       "    }\n",
       "\n",
       "    .dataframe tbody tr th {\n",
       "        vertical-align: top;\n",
       "    }\n",
       "\n",
       "    .dataframe thead th {\n",
       "        text-align: right;\n",
       "    }\n",
       "</style>\n",
       "<table border=\"1\" class=\"dataframe\">\n",
       "  <thead>\n",
       "    <tr style=\"text-align: right;\">\n",
       "      <th></th>\n",
       "      <th>Neighborhood</th>\n",
       "    </tr>\n",
       "  </thead>\n",
       "  <tbody>\n",
       "    <tr>\n",
       "      <th>0</th>\n",
       "      <td>Allerton</td>\n",
       "    </tr>\n",
       "    <tr>\n",
       "      <th>1</th>\n",
       "      <td>Astoria</td>\n",
       "    </tr>\n",
       "    <tr>\n",
       "      <th>2</th>\n",
       "      <td>Bath Beach</td>\n",
       "    </tr>\n",
       "    <tr>\n",
       "      <th>3</th>\n",
       "      <td>Battery Park City</td>\n",
       "    </tr>\n",
       "    <tr>\n",
       "      <th>4</th>\n",
       "      <td>Bay Ridge</td>\n",
       "    </tr>\n",
       "    <tr>\n",
       "      <th>...</th>\n",
       "      <td>...</td>\n",
       "    </tr>\n",
       "    <tr>\n",
       "      <th>130</th>\n",
       "      <td>Williamsburg</td>\n",
       "    </tr>\n",
       "    <tr>\n",
       "      <th>131</th>\n",
       "      <td>Windsor Terrace</td>\n",
       "    </tr>\n",
       "    <tr>\n",
       "      <th>132</th>\n",
       "      <td>Woodhaven</td>\n",
       "    </tr>\n",
       "    <tr>\n",
       "      <th>133</th>\n",
       "      <td>Woodlawn</td>\n",
       "    </tr>\n",
       "    <tr>\n",
       "      <th>134</th>\n",
       "      <td>Woodside</td>\n",
       "    </tr>\n",
       "  </tbody>\n",
       "</table>\n",
       "<p>135 rows × 1 columns</p>\n",
       "</div>"
      ],
      "text/plain": [
       "          Neighborhood\n",
       "0             Allerton\n",
       "1              Astoria\n",
       "2           Bath Beach\n",
       "3    Battery Park City\n",
       "4            Bay Ridge\n",
       "..                 ...\n",
       "130       Williamsburg\n",
       "131    Windsor Terrace\n",
       "132          Woodhaven\n",
       "133           Woodlawn\n",
       "134           Woodside\n",
       "\n",
       "[135 rows x 1 columns]"
      ]
     },
     "execution_count": 5,
     "metadata": {},
     "output_type": "execute_result"
    }
   ],
   "source": [
    "DF"
   ]
  },
  {
   "cell_type": "code",
   "execution_count": 6,
   "id": "ae8be00e",
   "metadata": {},
   "outputs": [],
   "source": [
    "pd.set_option('display.max_rows', None)"
   ]
  },
  {
   "cell_type": "code",
   "execution_count": 7,
   "id": "7307cbdf",
   "metadata": {},
   "outputs": [
    {
     "data": {
      "text/html": [
       "<div>\n",
       "<style scoped>\n",
       "    .dataframe tbody tr th:only-of-type {\n",
       "        vertical-align: middle;\n",
       "    }\n",
       "\n",
       "    .dataframe tbody tr th {\n",
       "        vertical-align: top;\n",
       "    }\n",
       "\n",
       "    .dataframe thead th {\n",
       "        text-align: right;\n",
       "    }\n",
       "</style>\n",
       "<table border=\"1\" class=\"dataframe\">\n",
       "  <thead>\n",
       "    <tr style=\"text-align: right;\">\n",
       "      <th></th>\n",
       "      <th>Neighborhood</th>\n",
       "    </tr>\n",
       "  </thead>\n",
       "  <tbody>\n",
       "    <tr>\n",
       "      <th>0</th>\n",
       "      <td>Allerton</td>\n",
       "    </tr>\n",
       "    <tr>\n",
       "      <th>1</th>\n",
       "      <td>Astoria</td>\n",
       "    </tr>\n",
       "    <tr>\n",
       "      <th>2</th>\n",
       "      <td>Bath Beach</td>\n",
       "    </tr>\n",
       "    <tr>\n",
       "      <th>3</th>\n",
       "      <td>Battery Park City</td>\n",
       "    </tr>\n",
       "    <tr>\n",
       "      <th>4</th>\n",
       "      <td>Bay Ridge</td>\n",
       "    </tr>\n",
       "    <tr>\n",
       "      <th>5</th>\n",
       "      <td>Baychester</td>\n",
       "    </tr>\n",
       "    <tr>\n",
       "      <th>6</th>\n",
       "      <td>Bayside</td>\n",
       "    </tr>\n",
       "    <tr>\n",
       "      <th>7</th>\n",
       "      <td>Bedford-Stuyvesant</td>\n",
       "    </tr>\n",
       "    <tr>\n",
       "      <th>8</th>\n",
       "      <td>Bellerose</td>\n",
       "    </tr>\n",
       "    <tr>\n",
       "      <th>9</th>\n",
       "      <td>Belmont</td>\n",
       "    </tr>\n",
       "    <tr>\n",
       "      <th>10</th>\n",
       "      <td>Bensonhurst</td>\n",
       "    </tr>\n",
       "    <tr>\n",
       "      <th>11</th>\n",
       "      <td>Boerum Hill</td>\n",
       "    </tr>\n",
       "    <tr>\n",
       "      <th>12</th>\n",
       "      <td>Borough Park</td>\n",
       "    </tr>\n",
       "    <tr>\n",
       "      <th>13</th>\n",
       "      <td>Brighton Beach</td>\n",
       "    </tr>\n",
       "    <tr>\n",
       "      <th>14</th>\n",
       "      <td>Brooklyn Heights</td>\n",
       "    </tr>\n",
       "    <tr>\n",
       "      <th>15</th>\n",
       "      <td>Brownsville</td>\n",
       "    </tr>\n",
       "    <tr>\n",
       "      <th>16</th>\n",
       "      <td>Cambria Heights</td>\n",
       "    </tr>\n",
       "    <tr>\n",
       "      <th>17</th>\n",
       "      <td>Canarsie</td>\n",
       "    </tr>\n",
       "    <tr>\n",
       "      <th>18</th>\n",
       "      <td>Carroll Gardens</td>\n",
       "    </tr>\n",
       "    <tr>\n",
       "      <th>19</th>\n",
       "      <td>Castle Hill</td>\n",
       "    </tr>\n",
       "    <tr>\n",
       "      <th>20</th>\n",
       "      <td>Chelsea</td>\n",
       "    </tr>\n",
       "    <tr>\n",
       "      <th>21</th>\n",
       "      <td>City Island</td>\n",
       "    </tr>\n",
       "    <tr>\n",
       "      <th>22</th>\n",
       "      <td>Clason Point</td>\n",
       "    </tr>\n",
       "    <tr>\n",
       "      <th>23</th>\n",
       "      <td>Clinton Hill</td>\n",
       "    </tr>\n",
       "    <tr>\n",
       "      <th>24</th>\n",
       "      <td>Co-op City</td>\n",
       "    </tr>\n",
       "    <tr>\n",
       "      <th>25</th>\n",
       "      <td>Cobble Hill</td>\n",
       "    </tr>\n",
       "    <tr>\n",
       "      <th>26</th>\n",
       "      <td>College Point</td>\n",
       "    </tr>\n",
       "    <tr>\n",
       "      <th>27</th>\n",
       "      <td>Coney Island</td>\n",
       "    </tr>\n",
       "    <tr>\n",
       "      <th>28</th>\n",
       "      <td>Corona</td>\n",
       "    </tr>\n",
       "    <tr>\n",
       "      <th>29</th>\n",
       "      <td>Country Club</td>\n",
       "    </tr>\n",
       "    <tr>\n",
       "      <th>30</th>\n",
       "      <td>Crotona Park East</td>\n",
       "    </tr>\n",
       "    <tr>\n",
       "      <th>31</th>\n",
       "      <td>Crown Heights</td>\n",
       "    </tr>\n",
       "    <tr>\n",
       "      <th>32</th>\n",
       "      <td>Douglaston</td>\n",
       "    </tr>\n",
       "    <tr>\n",
       "      <th>33</th>\n",
       "      <td>Dumbo</td>\n",
       "    </tr>\n",
       "    <tr>\n",
       "      <th>34</th>\n",
       "      <td>Dyker Heights</td>\n",
       "    </tr>\n",
       "    <tr>\n",
       "      <th>35</th>\n",
       "      <td>East Harlem</td>\n",
       "    </tr>\n",
       "    <tr>\n",
       "      <th>36</th>\n",
       "      <td>East New York</td>\n",
       "    </tr>\n",
       "    <tr>\n",
       "      <th>37</th>\n",
       "      <td>East Village</td>\n",
       "    </tr>\n",
       "    <tr>\n",
       "      <th>38</th>\n",
       "      <td>Edenwald</td>\n",
       "    </tr>\n",
       "    <tr>\n",
       "      <th>39</th>\n",
       "      <td>Elmhurst</td>\n",
       "    </tr>\n",
       "    <tr>\n",
       "      <th>40</th>\n",
       "      <td>Financial District</td>\n",
       "    </tr>\n",
       "    <tr>\n",
       "      <th>41</th>\n",
       "      <td>Flatbush</td>\n",
       "    </tr>\n",
       "    <tr>\n",
       "      <th>42</th>\n",
       "      <td>Floral Park</td>\n",
       "    </tr>\n",
       "    <tr>\n",
       "      <th>43</th>\n",
       "      <td>Flushing</td>\n",
       "    </tr>\n",
       "    <tr>\n",
       "      <th>44</th>\n",
       "      <td>Fordham</td>\n",
       "    </tr>\n",
       "    <tr>\n",
       "      <th>45</th>\n",
       "      <td>Fordham Heights</td>\n",
       "    </tr>\n",
       "    <tr>\n",
       "      <th>46</th>\n",
       "      <td>Forest Hills</td>\n",
       "    </tr>\n",
       "    <tr>\n",
       "      <th>47</th>\n",
       "      <td>Fort Greene</td>\n",
       "    </tr>\n",
       "    <tr>\n",
       "      <th>48</th>\n",
       "      <td>Fort Hamilton</td>\n",
       "    </tr>\n",
       "    <tr>\n",
       "      <th>49</th>\n",
       "      <td>Fresh Meadows</td>\n",
       "    </tr>\n",
       "    <tr>\n",
       "      <th>50</th>\n",
       "      <td>Gerritsen Beach</td>\n",
       "    </tr>\n",
       "    <tr>\n",
       "      <th>51</th>\n",
       "      <td>Glen Oaks</td>\n",
       "    </tr>\n",
       "    <tr>\n",
       "      <th>52</th>\n",
       "      <td>Glendale</td>\n",
       "    </tr>\n",
       "    <tr>\n",
       "      <th>53</th>\n",
       "      <td>Gowanus</td>\n",
       "    </tr>\n",
       "    <tr>\n",
       "      <th>54</th>\n",
       "      <td>Gramercy Park</td>\n",
       "    </tr>\n",
       "    <tr>\n",
       "      <th>55</th>\n",
       "      <td>Gravesend</td>\n",
       "    </tr>\n",
       "    <tr>\n",
       "      <th>56</th>\n",
       "      <td>Green Point</td>\n",
       "    </tr>\n",
       "    <tr>\n",
       "      <th>57</th>\n",
       "      <td>Greenwich Village</td>\n",
       "    </tr>\n",
       "    <tr>\n",
       "      <th>58</th>\n",
       "      <td>Greenwood</td>\n",
       "    </tr>\n",
       "    <tr>\n",
       "      <th>59</th>\n",
       "      <td>Harding Park</td>\n",
       "    </tr>\n",
       "    <tr>\n",
       "      <th>60</th>\n",
       "      <td>Harlem</td>\n",
       "    </tr>\n",
       "    <tr>\n",
       "      <th>61</th>\n",
       "      <td>High Bridge</td>\n",
       "    </tr>\n",
       "    <tr>\n",
       "      <th>62</th>\n",
       "      <td>Homecrest</td>\n",
       "    </tr>\n",
       "    <tr>\n",
       "      <th>63</th>\n",
       "      <td>Howard Beach</td>\n",
       "    </tr>\n",
       "    <tr>\n",
       "      <th>64</th>\n",
       "      <td>Hunters Point</td>\n",
       "    </tr>\n",
       "    <tr>\n",
       "      <th>65</th>\n",
       "      <td>Hunts Point</td>\n",
       "    </tr>\n",
       "    <tr>\n",
       "      <th>66</th>\n",
       "      <td>Jackson Heights</td>\n",
       "    </tr>\n",
       "    <tr>\n",
       "      <th>67</th>\n",
       "      <td>Jamaica</td>\n",
       "    </tr>\n",
       "    <tr>\n",
       "      <th>68</th>\n",
       "      <td>Kew Gardens</td>\n",
       "    </tr>\n",
       "    <tr>\n",
       "      <th>69</th>\n",
       "      <td>Little Neck</td>\n",
       "    </tr>\n",
       "    <tr>\n",
       "      <th>70</th>\n",
       "      <td>Locust Point</td>\n",
       "    </tr>\n",
       "    <tr>\n",
       "      <th>71</th>\n",
       "      <td>Long Island City</td>\n",
       "    </tr>\n",
       "    <tr>\n",
       "      <th>72</th>\n",
       "      <td>Lower East Side</td>\n",
       "    </tr>\n",
       "    <tr>\n",
       "      <th>73</th>\n",
       "      <td>Malba</td>\n",
       "    </tr>\n",
       "    <tr>\n",
       "      <th>74</th>\n",
       "      <td>Manhattan Beach</td>\n",
       "    </tr>\n",
       "    <tr>\n",
       "      <th>75</th>\n",
       "      <td>Marine Park</td>\n",
       "    </tr>\n",
       "    <tr>\n",
       "      <th>76</th>\n",
       "      <td>Maspeth</td>\n",
       "    </tr>\n",
       "    <tr>\n",
       "      <th>77</th>\n",
       "      <td>Mid Island</td>\n",
       "    </tr>\n",
       "    <tr>\n",
       "      <th>78</th>\n",
       "      <td>Middle Village</td>\n",
       "    </tr>\n",
       "    <tr>\n",
       "      <th>79</th>\n",
       "      <td>Midwood</td>\n",
       "    </tr>\n",
       "    <tr>\n",
       "      <th>80</th>\n",
       "      <td>Morningside Heights</td>\n",
       "    </tr>\n",
       "    <tr>\n",
       "      <th>81</th>\n",
       "      <td>Morris Heights</td>\n",
       "    </tr>\n",
       "    <tr>\n",
       "      <th>82</th>\n",
       "      <td>Morris Park</td>\n",
       "    </tr>\n",
       "    <tr>\n",
       "      <th>83</th>\n",
       "      <td>New Hyde park</td>\n",
       "    </tr>\n",
       "    <tr>\n",
       "      <th>84</th>\n",
       "      <td>NoHo</td>\n",
       "    </tr>\n",
       "    <tr>\n",
       "      <th>85</th>\n",
       "      <td>Ocean Hill</td>\n",
       "    </tr>\n",
       "    <tr>\n",
       "      <th>86</th>\n",
       "      <td>Ozone Park</td>\n",
       "    </tr>\n",
       "    <tr>\n",
       "      <th>87</th>\n",
       "      <td>Park Slope</td>\n",
       "    </tr>\n",
       "    <tr>\n",
       "      <th>88</th>\n",
       "      <td>Parkchester</td>\n",
       "    </tr>\n",
       "    <tr>\n",
       "      <th>89</th>\n",
       "      <td>Pelham Bay</td>\n",
       "    </tr>\n",
       "    <tr>\n",
       "      <th>90</th>\n",
       "      <td>Pelham Gardens</td>\n",
       "    </tr>\n",
       "    <tr>\n",
       "      <th>91</th>\n",
       "      <td>Pelham Parkway</td>\n",
       "    </tr>\n",
       "    <tr>\n",
       "      <th>92</th>\n",
       "      <td>Port Richmond</td>\n",
       "    </tr>\n",
       "    <tr>\n",
       "      <th>93</th>\n",
       "      <td>Prospect Heights</td>\n",
       "    </tr>\n",
       "    <tr>\n",
       "      <th>94</th>\n",
       "      <td>Prospect Park</td>\n",
       "    </tr>\n",
       "    <tr>\n",
       "      <th>95</th>\n",
       "      <td>Queens Village</td>\n",
       "    </tr>\n",
       "    <tr>\n",
       "      <th>96</th>\n",
       "      <td>Red Hook</td>\n",
       "    </tr>\n",
       "    <tr>\n",
       "      <th>97</th>\n",
       "      <td>Rego Park</td>\n",
       "    </tr>\n",
       "    <tr>\n",
       "      <th>98</th>\n",
       "      <td>Richmond Hill</td>\n",
       "    </tr>\n",
       "    <tr>\n",
       "      <th>99</th>\n",
       "      <td>Ridgewood</td>\n",
       "    </tr>\n",
       "    <tr>\n",
       "      <th>100</th>\n",
       "      <td>Riverdale</td>\n",
       "    </tr>\n",
       "    <tr>\n",
       "      <th>101</th>\n",
       "      <td>Rockaway</td>\n",
       "    </tr>\n",
       "    <tr>\n",
       "      <th>102</th>\n",
       "      <td>Rosedale</td>\n",
       "    </tr>\n",
       "    <tr>\n",
       "      <th>103</th>\n",
       "      <td>Schuylerville</td>\n",
       "    </tr>\n",
       "    <tr>\n",
       "      <th>104</th>\n",
       "      <td>Seagate</td>\n",
       "    </tr>\n",
       "    <tr>\n",
       "      <th>105</th>\n",
       "      <td>Sheepshead Bay</td>\n",
       "    </tr>\n",
       "    <tr>\n",
       "      <th>106</th>\n",
       "      <td>Soho</td>\n",
       "    </tr>\n",
       "    <tr>\n",
       "      <th>107</th>\n",
       "      <td>Soundview</td>\n",
       "    </tr>\n",
       "    <tr>\n",
       "      <th>108</th>\n",
       "      <td>South Shore</td>\n",
       "    </tr>\n",
       "    <tr>\n",
       "      <th>109</th>\n",
       "      <td>South Street Seaport</td>\n",
       "    </tr>\n",
       "    <tr>\n",
       "      <th>110</th>\n",
       "      <td>Springfield</td>\n",
       "    </tr>\n",
       "    <tr>\n",
       "      <th>111</th>\n",
       "      <td>Springfield Gardens</td>\n",
       "    </tr>\n",
       "    <tr>\n",
       "      <th>112</th>\n",
       "      <td>Stapleton</td>\n",
       "    </tr>\n",
       "    <tr>\n",
       "      <th>113</th>\n",
       "      <td>Stuyvesant Heights</td>\n",
       "    </tr>\n",
       "    <tr>\n",
       "      <th>114</th>\n",
       "      <td>Sunnyside</td>\n",
       "    </tr>\n",
       "    <tr>\n",
       "      <th>115</th>\n",
       "      <td>Sunset Park</td>\n",
       "    </tr>\n",
       "    <tr>\n",
       "      <th>116</th>\n",
       "      <td>Throggs Neck</td>\n",
       "    </tr>\n",
       "    <tr>\n",
       "      <th>117</th>\n",
       "      <td>Tremont</td>\n",
       "    </tr>\n",
       "    <tr>\n",
       "      <th>118</th>\n",
       "      <td>Tribeca</td>\n",
       "    </tr>\n",
       "    <tr>\n",
       "      <th>119</th>\n",
       "      <td>Two Bridges</td>\n",
       "    </tr>\n",
       "    <tr>\n",
       "      <th>120</th>\n",
       "      <td>Upper East Side</td>\n",
       "    </tr>\n",
       "    <tr>\n",
       "      <th>121</th>\n",
       "      <td>Upper West Side</td>\n",
       "    </tr>\n",
       "    <tr>\n",
       "      <th>122</th>\n",
       "      <td>Van Nest</td>\n",
       "    </tr>\n",
       "    <tr>\n",
       "      <th>123</th>\n",
       "      <td>Vinegar Hill</td>\n",
       "    </tr>\n",
       "    <tr>\n",
       "      <th>124</th>\n",
       "      <td>Wakefield</td>\n",
       "    </tr>\n",
       "    <tr>\n",
       "      <th>125</th>\n",
       "      <td>Washington Heights</td>\n",
       "    </tr>\n",
       "    <tr>\n",
       "      <th>126</th>\n",
       "      <td>West Farms</td>\n",
       "    </tr>\n",
       "    <tr>\n",
       "      <th>127</th>\n",
       "      <td>Westchester Square</td>\n",
       "    </tr>\n",
       "    <tr>\n",
       "      <th>128</th>\n",
       "      <td>Whitestone</td>\n",
       "    </tr>\n",
       "    <tr>\n",
       "      <th>129</th>\n",
       "      <td>Williamsbridge</td>\n",
       "    </tr>\n",
       "    <tr>\n",
       "      <th>130</th>\n",
       "      <td>Williamsburg</td>\n",
       "    </tr>\n",
       "    <tr>\n",
       "      <th>131</th>\n",
       "      <td>Windsor Terrace</td>\n",
       "    </tr>\n",
       "    <tr>\n",
       "      <th>132</th>\n",
       "      <td>Woodhaven</td>\n",
       "    </tr>\n",
       "    <tr>\n",
       "      <th>133</th>\n",
       "      <td>Woodlawn</td>\n",
       "    </tr>\n",
       "    <tr>\n",
       "      <th>134</th>\n",
       "      <td>Woodside</td>\n",
       "    </tr>\n",
       "  </tbody>\n",
       "</table>\n",
       "</div>"
      ],
      "text/plain": [
       "             Neighborhood\n",
       "0                Allerton\n",
       "1                 Astoria\n",
       "2              Bath Beach\n",
       "3       Battery Park City\n",
       "4               Bay Ridge\n",
       "5              Baychester\n",
       "6                 Bayside\n",
       "7      Bedford-Stuyvesant\n",
       "8               Bellerose\n",
       "9                 Belmont\n",
       "10            Bensonhurst\n",
       "11            Boerum Hill\n",
       "12           Borough Park\n",
       "13         Brighton Beach\n",
       "14       Brooklyn Heights\n",
       "15            Brownsville\n",
       "16        Cambria Heights\n",
       "17               Canarsie\n",
       "18        Carroll Gardens\n",
       "19            Castle Hill\n",
       "20                Chelsea\n",
       "21            City Island\n",
       "22           Clason Point\n",
       "23           Clinton Hill\n",
       "24             Co-op City\n",
       "25            Cobble Hill\n",
       "26          College Point\n",
       "27           Coney Island\n",
       "28                 Corona\n",
       "29           Country Club\n",
       "30      Crotona Park East\n",
       "31          Crown Heights\n",
       "32             Douglaston\n",
       "33                  Dumbo\n",
       "34          Dyker Heights\n",
       "35            East Harlem\n",
       "36          East New York\n",
       "37           East Village\n",
       "38               Edenwald\n",
       "39               Elmhurst\n",
       "40     Financial District\n",
       "41               Flatbush\n",
       "42            Floral Park\n",
       "43               Flushing\n",
       "44                Fordham\n",
       "45        Fordham Heights\n",
       "46           Forest Hills\n",
       "47            Fort Greene\n",
       "48          Fort Hamilton\n",
       "49          Fresh Meadows\n",
       "50        Gerritsen Beach\n",
       "51              Glen Oaks\n",
       "52               Glendale\n",
       "53                Gowanus\n",
       "54          Gramercy Park\n",
       "55              Gravesend\n",
       "56            Green Point\n",
       "57      Greenwich Village\n",
       "58              Greenwood\n",
       "59           Harding Park\n",
       "60                 Harlem\n",
       "61            High Bridge\n",
       "62              Homecrest\n",
       "63           Howard Beach\n",
       "64          Hunters Point\n",
       "65            Hunts Point\n",
       "66        Jackson Heights\n",
       "67                Jamaica\n",
       "68            Kew Gardens\n",
       "69            Little Neck\n",
       "70           Locust Point\n",
       "71       Long Island City\n",
       "72        Lower East Side\n",
       "73                  Malba\n",
       "74        Manhattan Beach\n",
       "75            Marine Park\n",
       "76                Maspeth\n",
       "77             Mid Island\n",
       "78         Middle Village\n",
       "79                Midwood\n",
       "80    Morningside Heights\n",
       "81         Morris Heights\n",
       "82            Morris Park\n",
       "83          New Hyde park\n",
       "84                   NoHo\n",
       "85             Ocean Hill\n",
       "86             Ozone Park\n",
       "87             Park Slope\n",
       "88            Parkchester\n",
       "89             Pelham Bay\n",
       "90         Pelham Gardens\n",
       "91         Pelham Parkway\n",
       "92          Port Richmond\n",
       "93       Prospect Heights\n",
       "94          Prospect Park\n",
       "95         Queens Village\n",
       "96               Red Hook\n",
       "97              Rego Park\n",
       "98          Richmond Hill\n",
       "99              Ridgewood\n",
       "100             Riverdale\n",
       "101              Rockaway\n",
       "102              Rosedale\n",
       "103         Schuylerville\n",
       "104               Seagate\n",
       "105        Sheepshead Bay\n",
       "106                  Soho\n",
       "107             Soundview\n",
       "108           South Shore\n",
       "109  South Street Seaport\n",
       "110           Springfield\n",
       "111   Springfield Gardens\n",
       "112             Stapleton\n",
       "113    Stuyvesant Heights\n",
       "114             Sunnyside\n",
       "115           Sunset Park\n",
       "116          Throggs Neck\n",
       "117               Tremont\n",
       "118               Tribeca\n",
       "119           Two Bridges\n",
       "120       Upper East Side\n",
       "121       Upper West Side\n",
       "122              Van Nest\n",
       "123          Vinegar Hill\n",
       "124             Wakefield\n",
       "125    Washington Heights\n",
       "126            West Farms\n",
       "127    Westchester Square\n",
       "128            Whitestone\n",
       "129        Williamsbridge\n",
       "130          Williamsburg\n",
       "131       Windsor Terrace\n",
       "132             Woodhaven\n",
       "133              Woodlawn\n",
       "134              Woodside"
      ]
     },
     "execution_count": 7,
     "metadata": {},
     "output_type": "execute_result"
    }
   ],
   "source": [
    "DF"
   ]
  },
  {
   "cell_type": "code",
   "execution_count": 8,
   "id": "ab919aba",
   "metadata": {},
   "outputs": [],
   "source": [
    "#Create a new column. \n",
    "#Can now create safety ratings for each of these neighborhoods\n",
    "DF['Safety Rating'] = '0'"
   ]
  },
  {
   "cell_type": "code",
   "execution_count": 9,
   "id": "21b4a161",
   "metadata": {},
   "outputs": [
    {
     "data": {
      "text/html": [
       "<div>\n",
       "<style scoped>\n",
       "    .dataframe tbody tr th:only-of-type {\n",
       "        vertical-align: middle;\n",
       "    }\n",
       "\n",
       "    .dataframe tbody tr th {\n",
       "        vertical-align: top;\n",
       "    }\n",
       "\n",
       "    .dataframe thead th {\n",
       "        text-align: right;\n",
       "    }\n",
       "</style>\n",
       "<table border=\"1\" class=\"dataframe\">\n",
       "  <thead>\n",
       "    <tr style=\"text-align: right;\">\n",
       "      <th></th>\n",
       "      <th>Neighborhood</th>\n",
       "      <th>Safety Rating</th>\n",
       "    </tr>\n",
       "  </thead>\n",
       "  <tbody>\n",
       "    <tr>\n",
       "      <th>0</th>\n",
       "      <td>Allerton</td>\n",
       "      <td>0</td>\n",
       "    </tr>\n",
       "    <tr>\n",
       "      <th>1</th>\n",
       "      <td>Astoria</td>\n",
       "      <td>0</td>\n",
       "    </tr>\n",
       "    <tr>\n",
       "      <th>2</th>\n",
       "      <td>Bath Beach</td>\n",
       "      <td>0</td>\n",
       "    </tr>\n",
       "    <tr>\n",
       "      <th>3</th>\n",
       "      <td>Battery Park City</td>\n",
       "      <td>0</td>\n",
       "    </tr>\n",
       "    <tr>\n",
       "      <th>4</th>\n",
       "      <td>Bay Ridge</td>\n",
       "      <td>0</td>\n",
       "    </tr>\n",
       "    <tr>\n",
       "      <th>5</th>\n",
       "      <td>Baychester</td>\n",
       "      <td>0</td>\n",
       "    </tr>\n",
       "    <tr>\n",
       "      <th>6</th>\n",
       "      <td>Bayside</td>\n",
       "      <td>0</td>\n",
       "    </tr>\n",
       "    <tr>\n",
       "      <th>7</th>\n",
       "      <td>Bedford-Stuyvesant</td>\n",
       "      <td>0</td>\n",
       "    </tr>\n",
       "    <tr>\n",
       "      <th>8</th>\n",
       "      <td>Bellerose</td>\n",
       "      <td>0</td>\n",
       "    </tr>\n",
       "    <tr>\n",
       "      <th>9</th>\n",
       "      <td>Belmont</td>\n",
       "      <td>0</td>\n",
       "    </tr>\n",
       "    <tr>\n",
       "      <th>10</th>\n",
       "      <td>Bensonhurst</td>\n",
       "      <td>0</td>\n",
       "    </tr>\n",
       "    <tr>\n",
       "      <th>11</th>\n",
       "      <td>Boerum Hill</td>\n",
       "      <td>0</td>\n",
       "    </tr>\n",
       "    <tr>\n",
       "      <th>12</th>\n",
       "      <td>Borough Park</td>\n",
       "      <td>0</td>\n",
       "    </tr>\n",
       "    <tr>\n",
       "      <th>13</th>\n",
       "      <td>Brighton Beach</td>\n",
       "      <td>0</td>\n",
       "    </tr>\n",
       "    <tr>\n",
       "      <th>14</th>\n",
       "      <td>Brooklyn Heights</td>\n",
       "      <td>0</td>\n",
       "    </tr>\n",
       "    <tr>\n",
       "      <th>15</th>\n",
       "      <td>Brownsville</td>\n",
       "      <td>0</td>\n",
       "    </tr>\n",
       "    <tr>\n",
       "      <th>16</th>\n",
       "      <td>Cambria Heights</td>\n",
       "      <td>0</td>\n",
       "    </tr>\n",
       "    <tr>\n",
       "      <th>17</th>\n",
       "      <td>Canarsie</td>\n",
       "      <td>0</td>\n",
       "    </tr>\n",
       "    <tr>\n",
       "      <th>18</th>\n",
       "      <td>Carroll Gardens</td>\n",
       "      <td>0</td>\n",
       "    </tr>\n",
       "    <tr>\n",
       "      <th>19</th>\n",
       "      <td>Castle Hill</td>\n",
       "      <td>0</td>\n",
       "    </tr>\n",
       "    <tr>\n",
       "      <th>20</th>\n",
       "      <td>Chelsea</td>\n",
       "      <td>0</td>\n",
       "    </tr>\n",
       "    <tr>\n",
       "      <th>21</th>\n",
       "      <td>City Island</td>\n",
       "      <td>0</td>\n",
       "    </tr>\n",
       "    <tr>\n",
       "      <th>22</th>\n",
       "      <td>Clason Point</td>\n",
       "      <td>0</td>\n",
       "    </tr>\n",
       "    <tr>\n",
       "      <th>23</th>\n",
       "      <td>Clinton Hill</td>\n",
       "      <td>0</td>\n",
       "    </tr>\n",
       "    <tr>\n",
       "      <th>24</th>\n",
       "      <td>Co-op City</td>\n",
       "      <td>0</td>\n",
       "    </tr>\n",
       "    <tr>\n",
       "      <th>25</th>\n",
       "      <td>Cobble Hill</td>\n",
       "      <td>0</td>\n",
       "    </tr>\n",
       "    <tr>\n",
       "      <th>26</th>\n",
       "      <td>College Point</td>\n",
       "      <td>0</td>\n",
       "    </tr>\n",
       "    <tr>\n",
       "      <th>27</th>\n",
       "      <td>Coney Island</td>\n",
       "      <td>0</td>\n",
       "    </tr>\n",
       "    <tr>\n",
       "      <th>28</th>\n",
       "      <td>Corona</td>\n",
       "      <td>0</td>\n",
       "    </tr>\n",
       "    <tr>\n",
       "      <th>29</th>\n",
       "      <td>Country Club</td>\n",
       "      <td>0</td>\n",
       "    </tr>\n",
       "    <tr>\n",
       "      <th>30</th>\n",
       "      <td>Crotona Park East</td>\n",
       "      <td>0</td>\n",
       "    </tr>\n",
       "    <tr>\n",
       "      <th>31</th>\n",
       "      <td>Crown Heights</td>\n",
       "      <td>0</td>\n",
       "    </tr>\n",
       "    <tr>\n",
       "      <th>32</th>\n",
       "      <td>Douglaston</td>\n",
       "      <td>0</td>\n",
       "    </tr>\n",
       "    <tr>\n",
       "      <th>33</th>\n",
       "      <td>Dumbo</td>\n",
       "      <td>0</td>\n",
       "    </tr>\n",
       "    <tr>\n",
       "      <th>34</th>\n",
       "      <td>Dyker Heights</td>\n",
       "      <td>0</td>\n",
       "    </tr>\n",
       "    <tr>\n",
       "      <th>35</th>\n",
       "      <td>East Harlem</td>\n",
       "      <td>0</td>\n",
       "    </tr>\n",
       "    <tr>\n",
       "      <th>36</th>\n",
       "      <td>East New York</td>\n",
       "      <td>0</td>\n",
       "    </tr>\n",
       "    <tr>\n",
       "      <th>37</th>\n",
       "      <td>East Village</td>\n",
       "      <td>0</td>\n",
       "    </tr>\n",
       "    <tr>\n",
       "      <th>38</th>\n",
       "      <td>Edenwald</td>\n",
       "      <td>0</td>\n",
       "    </tr>\n",
       "    <tr>\n",
       "      <th>39</th>\n",
       "      <td>Elmhurst</td>\n",
       "      <td>0</td>\n",
       "    </tr>\n",
       "    <tr>\n",
       "      <th>40</th>\n",
       "      <td>Financial District</td>\n",
       "      <td>0</td>\n",
       "    </tr>\n",
       "    <tr>\n",
       "      <th>41</th>\n",
       "      <td>Flatbush</td>\n",
       "      <td>0</td>\n",
       "    </tr>\n",
       "    <tr>\n",
       "      <th>42</th>\n",
       "      <td>Floral Park</td>\n",
       "      <td>0</td>\n",
       "    </tr>\n",
       "    <tr>\n",
       "      <th>43</th>\n",
       "      <td>Flushing</td>\n",
       "      <td>0</td>\n",
       "    </tr>\n",
       "    <tr>\n",
       "      <th>44</th>\n",
       "      <td>Fordham</td>\n",
       "      <td>0</td>\n",
       "    </tr>\n",
       "    <tr>\n",
       "      <th>45</th>\n",
       "      <td>Fordham Heights</td>\n",
       "      <td>0</td>\n",
       "    </tr>\n",
       "    <tr>\n",
       "      <th>46</th>\n",
       "      <td>Forest Hills</td>\n",
       "      <td>0</td>\n",
       "    </tr>\n",
       "    <tr>\n",
       "      <th>47</th>\n",
       "      <td>Fort Greene</td>\n",
       "      <td>0</td>\n",
       "    </tr>\n",
       "    <tr>\n",
       "      <th>48</th>\n",
       "      <td>Fort Hamilton</td>\n",
       "      <td>0</td>\n",
       "    </tr>\n",
       "    <tr>\n",
       "      <th>49</th>\n",
       "      <td>Fresh Meadows</td>\n",
       "      <td>0</td>\n",
       "    </tr>\n",
       "    <tr>\n",
       "      <th>50</th>\n",
       "      <td>Gerritsen Beach</td>\n",
       "      <td>0</td>\n",
       "    </tr>\n",
       "    <tr>\n",
       "      <th>51</th>\n",
       "      <td>Glen Oaks</td>\n",
       "      <td>0</td>\n",
       "    </tr>\n",
       "    <tr>\n",
       "      <th>52</th>\n",
       "      <td>Glendale</td>\n",
       "      <td>0</td>\n",
       "    </tr>\n",
       "    <tr>\n",
       "      <th>53</th>\n",
       "      <td>Gowanus</td>\n",
       "      <td>0</td>\n",
       "    </tr>\n",
       "    <tr>\n",
       "      <th>54</th>\n",
       "      <td>Gramercy Park</td>\n",
       "      <td>0</td>\n",
       "    </tr>\n",
       "    <tr>\n",
       "      <th>55</th>\n",
       "      <td>Gravesend</td>\n",
       "      <td>0</td>\n",
       "    </tr>\n",
       "    <tr>\n",
       "      <th>56</th>\n",
       "      <td>Green Point</td>\n",
       "      <td>0</td>\n",
       "    </tr>\n",
       "    <tr>\n",
       "      <th>57</th>\n",
       "      <td>Greenwich Village</td>\n",
       "      <td>0</td>\n",
       "    </tr>\n",
       "    <tr>\n",
       "      <th>58</th>\n",
       "      <td>Greenwood</td>\n",
       "      <td>0</td>\n",
       "    </tr>\n",
       "    <tr>\n",
       "      <th>59</th>\n",
       "      <td>Harding Park</td>\n",
       "      <td>0</td>\n",
       "    </tr>\n",
       "    <tr>\n",
       "      <th>60</th>\n",
       "      <td>Harlem</td>\n",
       "      <td>0</td>\n",
       "    </tr>\n",
       "    <tr>\n",
       "      <th>61</th>\n",
       "      <td>High Bridge</td>\n",
       "      <td>0</td>\n",
       "    </tr>\n",
       "    <tr>\n",
       "      <th>62</th>\n",
       "      <td>Homecrest</td>\n",
       "      <td>0</td>\n",
       "    </tr>\n",
       "    <tr>\n",
       "      <th>63</th>\n",
       "      <td>Howard Beach</td>\n",
       "      <td>0</td>\n",
       "    </tr>\n",
       "    <tr>\n",
       "      <th>64</th>\n",
       "      <td>Hunters Point</td>\n",
       "      <td>0</td>\n",
       "    </tr>\n",
       "    <tr>\n",
       "      <th>65</th>\n",
       "      <td>Hunts Point</td>\n",
       "      <td>0</td>\n",
       "    </tr>\n",
       "    <tr>\n",
       "      <th>66</th>\n",
       "      <td>Jackson Heights</td>\n",
       "      <td>0</td>\n",
       "    </tr>\n",
       "    <tr>\n",
       "      <th>67</th>\n",
       "      <td>Jamaica</td>\n",
       "      <td>0</td>\n",
       "    </tr>\n",
       "    <tr>\n",
       "      <th>68</th>\n",
       "      <td>Kew Gardens</td>\n",
       "      <td>0</td>\n",
       "    </tr>\n",
       "    <tr>\n",
       "      <th>69</th>\n",
       "      <td>Little Neck</td>\n",
       "      <td>0</td>\n",
       "    </tr>\n",
       "    <tr>\n",
       "      <th>70</th>\n",
       "      <td>Locust Point</td>\n",
       "      <td>0</td>\n",
       "    </tr>\n",
       "    <tr>\n",
       "      <th>71</th>\n",
       "      <td>Long Island City</td>\n",
       "      <td>0</td>\n",
       "    </tr>\n",
       "    <tr>\n",
       "      <th>72</th>\n",
       "      <td>Lower East Side</td>\n",
       "      <td>0</td>\n",
       "    </tr>\n",
       "    <tr>\n",
       "      <th>73</th>\n",
       "      <td>Malba</td>\n",
       "      <td>0</td>\n",
       "    </tr>\n",
       "    <tr>\n",
       "      <th>74</th>\n",
       "      <td>Manhattan Beach</td>\n",
       "      <td>0</td>\n",
       "    </tr>\n",
       "    <tr>\n",
       "      <th>75</th>\n",
       "      <td>Marine Park</td>\n",
       "      <td>0</td>\n",
       "    </tr>\n",
       "    <tr>\n",
       "      <th>76</th>\n",
       "      <td>Maspeth</td>\n",
       "      <td>0</td>\n",
       "    </tr>\n",
       "    <tr>\n",
       "      <th>77</th>\n",
       "      <td>Mid Island</td>\n",
       "      <td>0</td>\n",
       "    </tr>\n",
       "    <tr>\n",
       "      <th>78</th>\n",
       "      <td>Middle Village</td>\n",
       "      <td>0</td>\n",
       "    </tr>\n",
       "    <tr>\n",
       "      <th>79</th>\n",
       "      <td>Midwood</td>\n",
       "      <td>0</td>\n",
       "    </tr>\n",
       "    <tr>\n",
       "      <th>80</th>\n",
       "      <td>Morningside Heights</td>\n",
       "      <td>0</td>\n",
       "    </tr>\n",
       "    <tr>\n",
       "      <th>81</th>\n",
       "      <td>Morris Heights</td>\n",
       "      <td>0</td>\n",
       "    </tr>\n",
       "    <tr>\n",
       "      <th>82</th>\n",
       "      <td>Morris Park</td>\n",
       "      <td>0</td>\n",
       "    </tr>\n",
       "    <tr>\n",
       "      <th>83</th>\n",
       "      <td>New Hyde park</td>\n",
       "      <td>0</td>\n",
       "    </tr>\n",
       "    <tr>\n",
       "      <th>84</th>\n",
       "      <td>NoHo</td>\n",
       "      <td>0</td>\n",
       "    </tr>\n",
       "    <tr>\n",
       "      <th>85</th>\n",
       "      <td>Ocean Hill</td>\n",
       "      <td>0</td>\n",
       "    </tr>\n",
       "    <tr>\n",
       "      <th>86</th>\n",
       "      <td>Ozone Park</td>\n",
       "      <td>0</td>\n",
       "    </tr>\n",
       "    <tr>\n",
       "      <th>87</th>\n",
       "      <td>Park Slope</td>\n",
       "      <td>0</td>\n",
       "    </tr>\n",
       "    <tr>\n",
       "      <th>88</th>\n",
       "      <td>Parkchester</td>\n",
       "      <td>0</td>\n",
       "    </tr>\n",
       "    <tr>\n",
       "      <th>89</th>\n",
       "      <td>Pelham Bay</td>\n",
       "      <td>0</td>\n",
       "    </tr>\n",
       "    <tr>\n",
       "      <th>90</th>\n",
       "      <td>Pelham Gardens</td>\n",
       "      <td>0</td>\n",
       "    </tr>\n",
       "    <tr>\n",
       "      <th>91</th>\n",
       "      <td>Pelham Parkway</td>\n",
       "      <td>0</td>\n",
       "    </tr>\n",
       "    <tr>\n",
       "      <th>92</th>\n",
       "      <td>Port Richmond</td>\n",
       "      <td>0</td>\n",
       "    </tr>\n",
       "    <tr>\n",
       "      <th>93</th>\n",
       "      <td>Prospect Heights</td>\n",
       "      <td>0</td>\n",
       "    </tr>\n",
       "    <tr>\n",
       "      <th>94</th>\n",
       "      <td>Prospect Park</td>\n",
       "      <td>0</td>\n",
       "    </tr>\n",
       "    <tr>\n",
       "      <th>95</th>\n",
       "      <td>Queens Village</td>\n",
       "      <td>0</td>\n",
       "    </tr>\n",
       "    <tr>\n",
       "      <th>96</th>\n",
       "      <td>Red Hook</td>\n",
       "      <td>0</td>\n",
       "    </tr>\n",
       "    <tr>\n",
       "      <th>97</th>\n",
       "      <td>Rego Park</td>\n",
       "      <td>0</td>\n",
       "    </tr>\n",
       "    <tr>\n",
       "      <th>98</th>\n",
       "      <td>Richmond Hill</td>\n",
       "      <td>0</td>\n",
       "    </tr>\n",
       "    <tr>\n",
       "      <th>99</th>\n",
       "      <td>Ridgewood</td>\n",
       "      <td>0</td>\n",
       "    </tr>\n",
       "    <tr>\n",
       "      <th>100</th>\n",
       "      <td>Riverdale</td>\n",
       "      <td>0</td>\n",
       "    </tr>\n",
       "    <tr>\n",
       "      <th>101</th>\n",
       "      <td>Rockaway</td>\n",
       "      <td>0</td>\n",
       "    </tr>\n",
       "    <tr>\n",
       "      <th>102</th>\n",
       "      <td>Rosedale</td>\n",
       "      <td>0</td>\n",
       "    </tr>\n",
       "    <tr>\n",
       "      <th>103</th>\n",
       "      <td>Schuylerville</td>\n",
       "      <td>0</td>\n",
       "    </tr>\n",
       "    <tr>\n",
       "      <th>104</th>\n",
       "      <td>Seagate</td>\n",
       "      <td>0</td>\n",
       "    </tr>\n",
       "    <tr>\n",
       "      <th>105</th>\n",
       "      <td>Sheepshead Bay</td>\n",
       "      <td>0</td>\n",
       "    </tr>\n",
       "    <tr>\n",
       "      <th>106</th>\n",
       "      <td>Soho</td>\n",
       "      <td>0</td>\n",
       "    </tr>\n",
       "    <tr>\n",
       "      <th>107</th>\n",
       "      <td>Soundview</td>\n",
       "      <td>0</td>\n",
       "    </tr>\n",
       "    <tr>\n",
       "      <th>108</th>\n",
       "      <td>South Shore</td>\n",
       "      <td>0</td>\n",
       "    </tr>\n",
       "    <tr>\n",
       "      <th>109</th>\n",
       "      <td>South Street Seaport</td>\n",
       "      <td>0</td>\n",
       "    </tr>\n",
       "    <tr>\n",
       "      <th>110</th>\n",
       "      <td>Springfield</td>\n",
       "      <td>0</td>\n",
       "    </tr>\n",
       "    <tr>\n",
       "      <th>111</th>\n",
       "      <td>Springfield Gardens</td>\n",
       "      <td>0</td>\n",
       "    </tr>\n",
       "    <tr>\n",
       "      <th>112</th>\n",
       "      <td>Stapleton</td>\n",
       "      <td>0</td>\n",
       "    </tr>\n",
       "    <tr>\n",
       "      <th>113</th>\n",
       "      <td>Stuyvesant Heights</td>\n",
       "      <td>0</td>\n",
       "    </tr>\n",
       "    <tr>\n",
       "      <th>114</th>\n",
       "      <td>Sunnyside</td>\n",
       "      <td>0</td>\n",
       "    </tr>\n",
       "    <tr>\n",
       "      <th>115</th>\n",
       "      <td>Sunset Park</td>\n",
       "      <td>0</td>\n",
       "    </tr>\n",
       "    <tr>\n",
       "      <th>116</th>\n",
       "      <td>Throggs Neck</td>\n",
       "      <td>0</td>\n",
       "    </tr>\n",
       "    <tr>\n",
       "      <th>117</th>\n",
       "      <td>Tremont</td>\n",
       "      <td>0</td>\n",
       "    </tr>\n",
       "    <tr>\n",
       "      <th>118</th>\n",
       "      <td>Tribeca</td>\n",
       "      <td>0</td>\n",
       "    </tr>\n",
       "    <tr>\n",
       "      <th>119</th>\n",
       "      <td>Two Bridges</td>\n",
       "      <td>0</td>\n",
       "    </tr>\n",
       "    <tr>\n",
       "      <th>120</th>\n",
       "      <td>Upper East Side</td>\n",
       "      <td>0</td>\n",
       "    </tr>\n",
       "    <tr>\n",
       "      <th>121</th>\n",
       "      <td>Upper West Side</td>\n",
       "      <td>0</td>\n",
       "    </tr>\n",
       "    <tr>\n",
       "      <th>122</th>\n",
       "      <td>Van Nest</td>\n",
       "      <td>0</td>\n",
       "    </tr>\n",
       "    <tr>\n",
       "      <th>123</th>\n",
       "      <td>Vinegar Hill</td>\n",
       "      <td>0</td>\n",
       "    </tr>\n",
       "    <tr>\n",
       "      <th>124</th>\n",
       "      <td>Wakefield</td>\n",
       "      <td>0</td>\n",
       "    </tr>\n",
       "    <tr>\n",
       "      <th>125</th>\n",
       "      <td>Washington Heights</td>\n",
       "      <td>0</td>\n",
       "    </tr>\n",
       "    <tr>\n",
       "      <th>126</th>\n",
       "      <td>West Farms</td>\n",
       "      <td>0</td>\n",
       "    </tr>\n",
       "    <tr>\n",
       "      <th>127</th>\n",
       "      <td>Westchester Square</td>\n",
       "      <td>0</td>\n",
       "    </tr>\n",
       "    <tr>\n",
       "      <th>128</th>\n",
       "      <td>Whitestone</td>\n",
       "      <td>0</td>\n",
       "    </tr>\n",
       "    <tr>\n",
       "      <th>129</th>\n",
       "      <td>Williamsbridge</td>\n",
       "      <td>0</td>\n",
       "    </tr>\n",
       "    <tr>\n",
       "      <th>130</th>\n",
       "      <td>Williamsburg</td>\n",
       "      <td>0</td>\n",
       "    </tr>\n",
       "    <tr>\n",
       "      <th>131</th>\n",
       "      <td>Windsor Terrace</td>\n",
       "      <td>0</td>\n",
       "    </tr>\n",
       "    <tr>\n",
       "      <th>132</th>\n",
       "      <td>Woodhaven</td>\n",
       "      <td>0</td>\n",
       "    </tr>\n",
       "    <tr>\n",
       "      <th>133</th>\n",
       "      <td>Woodlawn</td>\n",
       "      <td>0</td>\n",
       "    </tr>\n",
       "    <tr>\n",
       "      <th>134</th>\n",
       "      <td>Woodside</td>\n",
       "      <td>0</td>\n",
       "    </tr>\n",
       "  </tbody>\n",
       "</table>\n",
       "</div>"
      ],
      "text/plain": [
       "             Neighborhood Safety Rating\n",
       "0                Allerton             0\n",
       "1                 Astoria             0\n",
       "2              Bath Beach             0\n",
       "3       Battery Park City             0\n",
       "4               Bay Ridge             0\n",
       "5              Baychester             0\n",
       "6                 Bayside             0\n",
       "7      Bedford-Stuyvesant             0\n",
       "8               Bellerose             0\n",
       "9                 Belmont             0\n",
       "10            Bensonhurst             0\n",
       "11            Boerum Hill             0\n",
       "12           Borough Park             0\n",
       "13         Brighton Beach             0\n",
       "14       Brooklyn Heights             0\n",
       "15            Brownsville             0\n",
       "16        Cambria Heights             0\n",
       "17               Canarsie             0\n",
       "18        Carroll Gardens             0\n",
       "19            Castle Hill             0\n",
       "20                Chelsea             0\n",
       "21            City Island             0\n",
       "22           Clason Point             0\n",
       "23           Clinton Hill             0\n",
       "24             Co-op City             0\n",
       "25            Cobble Hill             0\n",
       "26          College Point             0\n",
       "27           Coney Island             0\n",
       "28                 Corona             0\n",
       "29           Country Club             0\n",
       "30      Crotona Park East             0\n",
       "31          Crown Heights             0\n",
       "32             Douglaston             0\n",
       "33                  Dumbo             0\n",
       "34          Dyker Heights             0\n",
       "35            East Harlem             0\n",
       "36          East New York             0\n",
       "37           East Village             0\n",
       "38               Edenwald             0\n",
       "39               Elmhurst             0\n",
       "40     Financial District             0\n",
       "41               Flatbush             0\n",
       "42            Floral Park             0\n",
       "43               Flushing             0\n",
       "44                Fordham             0\n",
       "45        Fordham Heights             0\n",
       "46           Forest Hills             0\n",
       "47            Fort Greene             0\n",
       "48          Fort Hamilton             0\n",
       "49          Fresh Meadows             0\n",
       "50        Gerritsen Beach             0\n",
       "51              Glen Oaks             0\n",
       "52               Glendale             0\n",
       "53                Gowanus             0\n",
       "54          Gramercy Park             0\n",
       "55              Gravesend             0\n",
       "56            Green Point             0\n",
       "57      Greenwich Village             0\n",
       "58              Greenwood             0\n",
       "59           Harding Park             0\n",
       "60                 Harlem             0\n",
       "61            High Bridge             0\n",
       "62              Homecrest             0\n",
       "63           Howard Beach             0\n",
       "64          Hunters Point             0\n",
       "65            Hunts Point             0\n",
       "66        Jackson Heights             0\n",
       "67                Jamaica             0\n",
       "68            Kew Gardens             0\n",
       "69            Little Neck             0\n",
       "70           Locust Point             0\n",
       "71       Long Island City             0\n",
       "72        Lower East Side             0\n",
       "73                  Malba             0\n",
       "74        Manhattan Beach             0\n",
       "75            Marine Park             0\n",
       "76                Maspeth             0\n",
       "77             Mid Island             0\n",
       "78         Middle Village             0\n",
       "79                Midwood             0\n",
       "80    Morningside Heights             0\n",
       "81         Morris Heights             0\n",
       "82            Morris Park             0\n",
       "83          New Hyde park             0\n",
       "84                   NoHo             0\n",
       "85             Ocean Hill             0\n",
       "86             Ozone Park             0\n",
       "87             Park Slope             0\n",
       "88            Parkchester             0\n",
       "89             Pelham Bay             0\n",
       "90         Pelham Gardens             0\n",
       "91         Pelham Parkway             0\n",
       "92          Port Richmond             0\n",
       "93       Prospect Heights             0\n",
       "94          Prospect Park             0\n",
       "95         Queens Village             0\n",
       "96               Red Hook             0\n",
       "97              Rego Park             0\n",
       "98          Richmond Hill             0\n",
       "99              Ridgewood             0\n",
       "100             Riverdale             0\n",
       "101              Rockaway             0\n",
       "102              Rosedale             0\n",
       "103         Schuylerville             0\n",
       "104               Seagate             0\n",
       "105        Sheepshead Bay             0\n",
       "106                  Soho             0\n",
       "107             Soundview             0\n",
       "108           South Shore             0\n",
       "109  South Street Seaport             0\n",
       "110           Springfield             0\n",
       "111   Springfield Gardens             0\n",
       "112             Stapleton             0\n",
       "113    Stuyvesant Heights             0\n",
       "114             Sunnyside             0\n",
       "115           Sunset Park             0\n",
       "116          Throggs Neck             0\n",
       "117               Tremont             0\n",
       "118               Tribeca             0\n",
       "119           Two Bridges             0\n",
       "120       Upper East Side             0\n",
       "121       Upper West Side             0\n",
       "122              Van Nest             0\n",
       "123          Vinegar Hill             0\n",
       "124             Wakefield             0\n",
       "125    Washington Heights             0\n",
       "126            West Farms             0\n",
       "127    Westchester Square             0\n",
       "128            Whitestone             0\n",
       "129        Williamsbridge             0\n",
       "130          Williamsburg             0\n",
       "131       Windsor Terrace             0\n",
       "132             Woodhaven             0\n",
       "133              Woodlawn             0\n",
       "134              Woodside             0"
      ]
     },
     "execution_count": 9,
     "metadata": {},
     "output_type": "execute_result"
    }
   ],
   "source": [
    "#Checking to see DF works\n",
    "DF"
   ]
  },
  {
   "cell_type": "markdown",
   "id": "5161b509",
   "metadata": {},
   "source": [
    "## Inputting Safety Ratings for Each Neighborhood"
   ]
  },
  {
   "cell_type": "code",
   "execution_count": null,
   "id": "7c8a8871",
   "metadata": {},
   "outputs": [],
   "source": [
    "#Data from Niche.com\n",
    "#https://www.niche.com/places-to-live/search/safest-neighborhoods/m/new-york-city-metro-area/"
   ]
  },
  {
   "cell_type": "code",
   "execution_count": 10,
   "id": "9a55eecd",
   "metadata": {},
   "outputs": [],
   "source": [
    "DF.loc[DF['Neighborhood']=='Allerton','Safety Rating'] = 'C+'"
   ]
  },
  {
   "cell_type": "code",
   "execution_count": 11,
   "id": "c9323996",
   "metadata": {},
   "outputs": [],
   "source": [
    "DF.loc[DF['Neighborhood']=='Astoria','Safety Rating'] = 'B+'"
   ]
  },
  {
   "cell_type": "code",
   "execution_count": 12,
   "id": "57fa652b",
   "metadata": {},
   "outputs": [],
   "source": [
    "DF.loc[DF['Neighborhood']=='Bath Beach','Safety Rating'] = 'A-'"
   ]
  },
  {
   "cell_type": "code",
   "execution_count": 13,
   "id": "1d1f35e4",
   "metadata": {},
   "outputs": [],
   "source": [
    "DF.loc[DF['Neighborhood']=='Battery Park City','Safety Rating'] = 'A+'"
   ]
  },
  {
   "cell_type": "code",
   "execution_count": 14,
   "id": "0e590919",
   "metadata": {},
   "outputs": [],
   "source": [
    "DF.loc[DF['Neighborhood']=='Bay Ridge','Safety Rating'] = 'B+'"
   ]
  },
  {
   "cell_type": "code",
   "execution_count": 15,
   "id": "f3464dab",
   "metadata": {},
   "outputs": [],
   "source": [
    "DF.loc[DF['Neighborhood']=='Baychester','Safety Rating'] = 'C'"
   ]
  },
  {
   "cell_type": "code",
   "execution_count": 16,
   "id": "dc221fd3",
   "metadata": {},
   "outputs": [],
   "source": [
    "DF.loc[DF['Neighborhood']=='Bayside','Safety Rating'] = 'A'"
   ]
  },
  {
   "cell_type": "code",
   "execution_count": 17,
   "id": "28062e3f",
   "metadata": {},
   "outputs": [],
   "source": [
    "DF.loc[DF['Neighborhood']=='Bedford-Stuyvesant','Safety Rating'] = 'C+'"
   ]
  },
  {
   "cell_type": "code",
   "execution_count": 18,
   "id": "0a47ffaa",
   "metadata": {},
   "outputs": [],
   "source": [
    "DF.loc[DF['Neighborhood']=='Bellerose','Safety Rating'] = 'A-'"
   ]
  },
  {
   "cell_type": "code",
   "execution_count": 19,
   "id": "007cac42",
   "metadata": {},
   "outputs": [],
   "source": [
    "DF.loc[DF['Neighborhood']=='Belmont','Safety Rating'] = 'C'"
   ]
  },
  {
   "cell_type": "code",
   "execution_count": 20,
   "id": "737834bc",
   "metadata": {},
   "outputs": [],
   "source": [
    "DF.loc[DF['Neighborhood']=='Bensonhurst','Safety Rating'] = 'B+'"
   ]
  },
  {
   "cell_type": "code",
   "execution_count": 21,
   "id": "b209cc6f",
   "metadata": {},
   "outputs": [],
   "source": [
    "DF.loc[DF['Neighborhood']=='Boerum Hill','Safety Rating'] = 'B'"
   ]
  },
  {
   "cell_type": "code",
   "execution_count": 22,
   "id": "e96e38a8",
   "metadata": {},
   "outputs": [],
   "source": [
    "DF.loc[DF['Neighborhood']=='Borough Park','Safety Rating'] = 'B-'"
   ]
  },
  {
   "cell_type": "code",
   "execution_count": 23,
   "id": "05acad4e",
   "metadata": {},
   "outputs": [],
   "source": [
    "DF.loc[DF['Neighborhood']=='Brighton Beach','Safety Rating'] = 'B'"
   ]
  },
  {
   "cell_type": "code",
   "execution_count": 24,
   "id": "21e90b0b",
   "metadata": {},
   "outputs": [],
   "source": [
    "DF.loc[DF['Neighborhood']=='Brooklyn Heights','Safety Rating'] = 'A'"
   ]
  },
  {
   "cell_type": "code",
   "execution_count": 25,
   "id": "b14aa5d8",
   "metadata": {},
   "outputs": [],
   "source": [
    "DF.loc[DF['Neighborhood']=='Brownsville','Safety Rating'] = 'D'"
   ]
  },
  {
   "cell_type": "code",
   "execution_count": 26,
   "id": "9ad00b27",
   "metadata": {},
   "outputs": [],
   "source": [
    "DF.loc[DF['Neighborhood']=='Cambria Heights','Safety Rating'] = 'B+'"
   ]
  },
  {
   "cell_type": "code",
   "execution_count": 27,
   "id": "0a79bd32",
   "metadata": {},
   "outputs": [],
   "source": [
    "DF.loc[DF['Neighborhood']=='Canarsie','Safety Rating'] = 'B-'"
   ]
  },
  {
   "cell_type": "code",
   "execution_count": 28,
   "id": "adb67211",
   "metadata": {},
   "outputs": [],
   "source": [
    "DF.loc[DF['Neighborhood']=='Carroll Gardens','Safety Rating'] = 'A'"
   ]
  },
  {
   "cell_type": "code",
   "execution_count": 29,
   "id": "22074bc2",
   "metadata": {},
   "outputs": [],
   "source": [
    "DF.loc[DF['Neighborhood']=='Castle Hill','Safety Rating'] = 'C'"
   ]
  },
  {
   "cell_type": "code",
   "execution_count": 30,
   "id": "9ab1fa7d",
   "metadata": {},
   "outputs": [],
   "source": [
    "DF.loc[DF['Neighborhood']=='Bensonhurst','Safety Rating'] = 'B+'"
   ]
  },
  {
   "cell_type": "code",
   "execution_count": 31,
   "id": "94f2fc7f",
   "metadata": {},
   "outputs": [],
   "source": [
    "DF.loc[DF['Neighborhood']=='Boerum Hill','Safety Rating'] = 'B'"
   ]
  },
  {
   "cell_type": "code",
   "execution_count": 32,
   "id": "64b3dff7",
   "metadata": {},
   "outputs": [],
   "source": [
    "DF.loc[DF['Neighborhood']=='Borough Park','Safety Rating'] = 'B-'"
   ]
  },
  {
   "cell_type": "code",
   "execution_count": 33,
   "id": "19ac3200",
   "metadata": {},
   "outputs": [],
   "source": [
    "DF.loc[DF['Neighborhood']=='Brighton Heights','Safety Rating'] = 'A'"
   ]
  },
  {
   "cell_type": "code",
   "execution_count": 34,
   "id": "336a68b2",
   "metadata": {},
   "outputs": [],
   "source": [
    "DF.loc[DF['Neighborhood']=='Brownsville','Safety Rating'] = 'D'"
   ]
  },
  {
   "cell_type": "code",
   "execution_count": 35,
   "id": "70598894",
   "metadata": {},
   "outputs": [],
   "source": [
    "DF.loc[DF['Neighborhood']=='Cambria Heights','Safety Rating'] = 'B+'"
   ]
  },
  {
   "cell_type": "code",
   "execution_count": 36,
   "id": "b99fa6c8",
   "metadata": {},
   "outputs": [],
   "source": [
    "DF.loc[DF['Neighborhood']=='Canarsie','Safety Rating'] = 'B-'"
   ]
  },
  {
   "cell_type": "code",
   "execution_count": 37,
   "id": "21cdaf89",
   "metadata": {},
   "outputs": [],
   "source": [
    "DF.loc[DF['Neighborhood']=='Carroll Gardens','Safety Rating'] = 'A'"
   ]
  },
  {
   "cell_type": "code",
   "execution_count": 38,
   "id": "88da8f7e",
   "metadata": {},
   "outputs": [],
   "source": [
    "DF.loc[DF['Neighborhood']=='Castle Hill','Safety Rating'] = 'C'"
   ]
  },
  {
   "cell_type": "code",
   "execution_count": 39,
   "id": "53ee1574",
   "metadata": {},
   "outputs": [],
   "source": [
    "DF.loc[DF['Neighborhood']=='Chelsea','Safety Rating'] = 'A'"
   ]
  },
  {
   "cell_type": "code",
   "execution_count": 40,
   "id": "7fdb0088",
   "metadata": {},
   "outputs": [],
   "source": [
    "DF.loc[DF['Neighborhood']=='City Island','Safety Rating'] = 'A-'"
   ]
  },
  {
   "cell_type": "code",
   "execution_count": 41,
   "id": "3359090c",
   "metadata": {},
   "outputs": [],
   "source": [
    "DF.loc[DF['Neighborhood']=='Clason Point','Safety Rating'] = 'C'"
   ]
  },
  {
   "cell_type": "code",
   "execution_count": 42,
   "id": "1cb72f06",
   "metadata": {},
   "outputs": [],
   "source": [
    "DF.loc[DF['Neighborhood']=='Clason Point','Safety Rating'] = 'C'"
   ]
  },
  {
   "cell_type": "code",
   "execution_count": 43,
   "id": "a68f9bd1",
   "metadata": {},
   "outputs": [],
   "source": [
    "DF.loc[DF['Neighborhood']=='Clinton Hill','Safety Rating'] = 'A'"
   ]
  },
  {
   "cell_type": "code",
   "execution_count": 44,
   "id": "75d42a3c",
   "metadata": {},
   "outputs": [],
   "source": [
    "DF.loc[DF['Neighborhood']=='Co-op City','Safety Rating'] = 'C+'"
   ]
  },
  {
   "cell_type": "code",
   "execution_count": 45,
   "id": "1a46ad50",
   "metadata": {},
   "outputs": [],
   "source": [
    "DF.loc[DF['Neighborhood']=='Cobble Hill','Safety Rating'] = 'A'"
   ]
  },
  {
   "cell_type": "code",
   "execution_count": 46,
   "id": "c232148e",
   "metadata": {},
   "outputs": [],
   "source": [
    "DF.loc[DF['Neighborhood']=='College Point','Safety Rating'] = 'B'"
   ]
  },
  {
   "cell_type": "code",
   "execution_count": 47,
   "id": "465e2798",
   "metadata": {},
   "outputs": [],
   "source": [
    "DF.loc[DF['Neighborhood']=='Coney Island','Safety Rating'] = 'C'"
   ]
  },
  {
   "cell_type": "code",
   "execution_count": 48,
   "id": "04bc6891",
   "metadata": {},
   "outputs": [],
   "source": [
    "DF.loc[DF['Neighborhood']=='Corona','Safety Rating'] = 'C'"
   ]
  },
  {
   "cell_type": "code",
   "execution_count": 49,
   "id": "6b7eebe5",
   "metadata": {},
   "outputs": [],
   "source": [
    "DF.loc[DF['Neighborhood']=='Country Club','Safety Rating'] = 'B+'"
   ]
  },
  {
   "cell_type": "code",
   "execution_count": 50,
   "id": "08e96d81",
   "metadata": {},
   "outputs": [],
   "source": [
    "DF.loc[DF['Neighborhood']=='Crotona Park East','Safety Rating'] = 'C'"
   ]
  },
  {
   "cell_type": "code",
   "execution_count": 51,
   "id": "1815559e",
   "metadata": {},
   "outputs": [],
   "source": [
    "DF.loc[DF['Neighborhood']=='Crown Heights','Safety Rating'] = 'C'"
   ]
  },
  {
   "cell_type": "code",
   "execution_count": 52,
   "id": "750c2d9c",
   "metadata": {},
   "outputs": [],
   "source": [
    "DF.loc[DF['Neighborhood']=='Douglaston','Safety Rating'] = 'A'"
   ]
  },
  {
   "cell_type": "code",
   "execution_count": 53,
   "id": "c5040c88",
   "metadata": {},
   "outputs": [],
   "source": [
    "DF.loc[DF['Neighborhood']=='Dumbo','Safety Rating'] = 'B+'"
   ]
  },
  {
   "cell_type": "code",
   "execution_count": 54,
   "id": "6ec403e9",
   "metadata": {},
   "outputs": [],
   "source": [
    "DF.loc[DF['Neighborhood']=='Dyker Heights','Safety Rating'] = 'A'"
   ]
  },
  {
   "cell_type": "code",
   "execution_count": 55,
   "id": "c315b2c2",
   "metadata": {},
   "outputs": [],
   "source": [
    "DF.loc[DF['Neighborhood']=='East Harlem','Safety Rating'] = 'C'"
   ]
  },
  {
   "cell_type": "code",
   "execution_count": 56,
   "id": "b1ad9e10",
   "metadata": {},
   "outputs": [],
   "source": [
    "DF.loc[DF['Neighborhood']=='East New York','Safety Rating'] = 'D+'"
   ]
  },
  {
   "cell_type": "code",
   "execution_count": 57,
   "id": "2d423b06",
   "metadata": {},
   "outputs": [],
   "source": [
    "DF.loc[DF['Neighborhood']=='East Village','Safety Rating'] = 'B+'"
   ]
  },
  {
   "cell_type": "code",
   "execution_count": 58,
   "id": "e19feefc",
   "metadata": {},
   "outputs": [],
   "source": [
    "DF.loc[DF['Neighborhood']=='Edenwald','Safety Rating'] = 'C-'"
   ]
  },
  {
   "cell_type": "code",
   "execution_count": 59,
   "id": "ef08048c",
   "metadata": {},
   "outputs": [],
   "source": [
    "DF.loc[DF['Neighborhood']=='Elmhurst','Safety Rating'] = 'B-'"
   ]
  },
  {
   "cell_type": "code",
   "execution_count": 60,
   "id": "1da3c144",
   "metadata": {},
   "outputs": [],
   "source": [
    "DF.loc[DF['Neighborhood']=='Financial District','Safety Rating'] = 'A'"
   ]
  },
  {
   "cell_type": "code",
   "execution_count": 61,
   "id": "2affbcf9",
   "metadata": {},
   "outputs": [],
   "source": [
    "DF.loc[DF['Neighborhood']=='Flatbush','Safety Rating'] = 'B'"
   ]
  },
  {
   "cell_type": "code",
   "execution_count": 62,
   "id": "f042a4e8",
   "metadata": {},
   "outputs": [],
   "source": [
    "DF.loc[DF['Neighborhood']=='Floral Park','Safety Rating'] = 'A'"
   ]
  },
  {
   "cell_type": "code",
   "execution_count": 63,
   "id": "7a84240e",
   "metadata": {},
   "outputs": [],
   "source": [
    "DF.loc[DF['Neighborhood']=='Flushing','Safety Rating'] = 'B'"
   ]
  },
  {
   "cell_type": "code",
   "execution_count": 64,
   "id": "927d658e",
   "metadata": {},
   "outputs": [],
   "source": [
    "DF.loc[DF['Neighborhood']=='Fordham','Safety Rating'] = 'C'"
   ]
  },
  {
   "cell_type": "code",
   "execution_count": 65,
   "id": "d26fde95",
   "metadata": {},
   "outputs": [],
   "source": [
    "DF.loc[DF['Neighborhood']=='Fordham Heights','Safety Rating'] = 'C-'"
   ]
  },
  {
   "cell_type": "code",
   "execution_count": 66,
   "id": "f1c9c9de",
   "metadata": {},
   "outputs": [],
   "source": [
    "DF.loc[DF['Neighborhood']=='Forest Hills','Safety Rating'] = 'A'"
   ]
  },
  {
   "cell_type": "code",
   "execution_count": 67,
   "id": "3285037b",
   "metadata": {},
   "outputs": [],
   "source": [
    "DF.loc[DF['Neighborhood']=='Fort Greene','Safety Rating'] = 'B+'"
   ]
  },
  {
   "cell_type": "code",
   "execution_count": 68,
   "id": "519190a4",
   "metadata": {},
   "outputs": [],
   "source": [
    "DF.loc[DF['Neighborhood']=='Fort Hamilton','Safety Rating'] = 'A'"
   ]
  },
  {
   "cell_type": "code",
   "execution_count": 69,
   "id": "5b4920f6",
   "metadata": {},
   "outputs": [],
   "source": [
    "DF.loc[DF['Neighborhood']=='Fresh Meadows','Safety Rating'] = 'A-'"
   ]
  },
  {
   "cell_type": "code",
   "execution_count": 70,
   "id": "55c9ff02",
   "metadata": {},
   "outputs": [],
   "source": [
    "DF.loc[DF['Neighborhood']=='Gerritsen Beach','Safety Rating'] = 'A'"
   ]
  },
  {
   "cell_type": "code",
   "execution_count": 71,
   "id": "440f9725",
   "metadata": {},
   "outputs": [],
   "source": [
    "DF.loc[DF['Neighborhood']=='Glen Oaks','Safety Rating'] = 'A'"
   ]
  },
  {
   "cell_type": "code",
   "execution_count": 72,
   "id": "9e3651ac",
   "metadata": {},
   "outputs": [],
   "source": [
    "DF.loc[DF['Neighborhood']=='Glendale','Safety Rating'] = 'B+'"
   ]
  },
  {
   "cell_type": "code",
   "execution_count": 73,
   "id": "2a25a025",
   "metadata": {},
   "outputs": [],
   "source": [
    "DF.loc[DF['Neighborhood']=='Gowanus','Safety Rating'] = 'B'"
   ]
  },
  {
   "cell_type": "code",
   "execution_count": 75,
   "id": "6bfa37fa",
   "metadata": {},
   "outputs": [],
   "source": [
    "DF.loc[DF['Neighborhood']=='Gramercy Park','Safety Rating'] = 'A'"
   ]
  },
  {
   "cell_type": "code",
   "execution_count": 76,
   "id": "a64527cc",
   "metadata": {},
   "outputs": [],
   "source": [
    "DF.loc[DF['Neighborhood']=='Gravesend','Safety Rating'] = 'B'"
   ]
  },
  {
   "cell_type": "code",
   "execution_count": 77,
   "id": "1dfab24f",
   "metadata": {},
   "outputs": [],
   "source": [
    "DF.loc[DF['Neighborhood']=='Greenpoint','Safety Rating'] = 'B+'"
   ]
  },
  {
   "cell_type": "code",
   "execution_count": 78,
   "id": "f431b3b3",
   "metadata": {},
   "outputs": [],
   "source": [
    "DF.loc[DF['Neighborhood']=='Greenwich Village','Safety Rating'] = 'A'"
   ]
  },
  {
   "cell_type": "code",
   "execution_count": 79,
   "id": "29d45524",
   "metadata": {},
   "outputs": [],
   "source": [
    "DF.loc[DF['Neighborhood']=='Greenwood','Safety Rating'] = 'B'"
   ]
  },
  {
   "cell_type": "code",
   "execution_count": 80,
   "id": "71ea73e7",
   "metadata": {},
   "outputs": [],
   "source": [
    "DF.loc[DF['Neighborhood']=='Harding Park','Safety Rating'] = 'C'"
   ]
  },
  {
   "cell_type": "code",
   "execution_count": 81,
   "id": "c51f692b",
   "metadata": {},
   "outputs": [],
   "source": [
    "DF.loc[DF['Neighborhood']=='Harlem','Safety Rating'] = 'C'"
   ]
  },
  {
   "cell_type": "code",
   "execution_count": 82,
   "id": "c42a5bf2",
   "metadata": {},
   "outputs": [],
   "source": [
    "DF.loc[DF['Neighborhood']=='High Bridge','Safety Rating'] = 'C'"
   ]
  },
  {
   "cell_type": "code",
   "execution_count": 83,
   "id": "59358966",
   "metadata": {},
   "outputs": [],
   "source": [
    "DF.loc[DF['Neighborhood']=='Homecrest','Safety Rating'] = 'B'"
   ]
  },
  {
   "cell_type": "code",
   "execution_count": 84,
   "id": "f7af38aa",
   "metadata": {},
   "outputs": [],
   "source": [
    "DF.loc[DF['Neighborhood']=='Howard Beach','Safety Rating'] = 'B'"
   ]
  },
  {
   "cell_type": "code",
   "execution_count": 85,
   "id": "a1848f83",
   "metadata": {},
   "outputs": [],
   "source": [
    "DF.loc[DF['Neighborhood']=='Hunters Point','Safety Rating'] = 'B+'"
   ]
  },
  {
   "cell_type": "code",
   "execution_count": 86,
   "id": "58c7f0dd",
   "metadata": {},
   "outputs": [],
   "source": [
    "DF.loc[DF['Neighborhood']=='Hunts Point','Safety Rating'] = 'D+'"
   ]
  },
  {
   "cell_type": "code",
   "execution_count": 87,
   "id": "bd921695",
   "metadata": {},
   "outputs": [],
   "source": [
    "DF.loc[DF['Neighborhood']=='Jackson Heights','Safety Rating'] = 'B'"
   ]
  },
  {
   "cell_type": "code",
   "execution_count": 88,
   "id": "2c362a73",
   "metadata": {},
   "outputs": [],
   "source": [
    "DF.loc[DF['Neighborhood']=='Jamaica','Safety Rating'] = 'C'"
   ]
  },
  {
   "cell_type": "code",
   "execution_count": 89,
   "id": "b1f9583f",
   "metadata": {},
   "outputs": [],
   "source": [
    "DF.loc[DF['Neighborhood']=='Kew Gardens','Safety Rating'] = 'A-'"
   ]
  },
  {
   "cell_type": "code",
   "execution_count": 90,
   "id": "45566ebd",
   "metadata": {},
   "outputs": [],
   "source": [
    "DF.loc[DF['Neighborhood']=='Little Neck','Safety Rating'] = 'A'"
   ]
  },
  {
   "cell_type": "code",
   "execution_count": 91,
   "id": "b607e055",
   "metadata": {},
   "outputs": [],
   "source": [
    "DF.loc[DF['Neighborhood']=='Locust Point','Safety Rating'] = 'B'"
   ]
  },
  {
   "cell_type": "code",
   "execution_count": 92,
   "id": "b74a891d",
   "metadata": {},
   "outputs": [],
   "source": [
    "DF.loc[DF['Neighborhood']=='Long Island City','Safety Rating'] = 'B+'"
   ]
  },
  {
   "cell_type": "code",
   "execution_count": 93,
   "id": "ca86f4df",
   "metadata": {},
   "outputs": [],
   "source": [
    "DF.loc[DF['Neighborhood']=='Lower East Side','Safety Rating'] = 'B'"
   ]
  },
  {
   "cell_type": "code",
   "execution_count": 94,
   "id": "a9ef4daa",
   "metadata": {},
   "outputs": [],
   "source": [
    "DF.loc[DF['Neighborhood']=='Malba','Safety Rating'] = 'A'"
   ]
  },
  {
   "cell_type": "code",
   "execution_count": 95,
   "id": "ff0dffe3",
   "metadata": {},
   "outputs": [],
   "source": [
    "DF.loc[DF['Neighborhood']=='Manhattan Beach','Safety Rating'] = 'A'"
   ]
  },
  {
   "cell_type": "code",
   "execution_count": 96,
   "id": "1a291178",
   "metadata": {},
   "outputs": [],
   "source": [
    "DF.loc[DF['Neighborhood']=='Marine Park','Safety Rating'] = 'A'"
   ]
  },
  {
   "cell_type": "code",
   "execution_count": 97,
   "id": "d1b695e9",
   "metadata": {},
   "outputs": [],
   "source": [
    "DF.loc[DF['Neighborhood']=='Maspeth','Safety Rating'] = 'B'"
   ]
  },
  {
   "cell_type": "code",
   "execution_count": 98,
   "id": "9e645efa",
   "metadata": {},
   "outputs": [],
   "source": [
    "DF.loc[DF['Neighborhood']=='Mid Island','Safety Rating'] = 'B'"
   ]
  },
  {
   "cell_type": "code",
   "execution_count": 99,
   "id": "a53cba5d",
   "metadata": {},
   "outputs": [],
   "source": [
    "DF.loc[DF['Neighborhood']=='Middle Village','Safety Rating'] = 'B'"
   ]
  },
  {
   "cell_type": "code",
   "execution_count": 100,
   "id": "b8723ba0",
   "metadata": {},
   "outputs": [],
   "source": [
    "DF.loc[DF['Neighborhood']=='Midwood','Safety Rating'] = 'B'"
   ]
  },
  {
   "cell_type": "code",
   "execution_count": 101,
   "id": "c35b11a4",
   "metadata": {},
   "outputs": [],
   "source": [
    "DF.loc[DF['Neighborhood']=='Morningside Heights','Safety Rating'] = 'B'"
   ]
  },
  {
   "cell_type": "code",
   "execution_count": 102,
   "id": "c805242e",
   "metadata": {},
   "outputs": [],
   "source": [
    "DF.loc[DF['Neighborhood']=='Morris Heights','Safety Rating'] = 'C'"
   ]
  },
  {
   "cell_type": "code",
   "execution_count": 103,
   "id": "5f58f392",
   "metadata": {},
   "outputs": [],
   "source": [
    "DF.loc[DF['Neighborhood']=='Morris Park','Safety Rating'] = 'B'"
   ]
  },
  {
   "cell_type": "code",
   "execution_count": 104,
   "id": "f4328b90",
   "metadata": {},
   "outputs": [],
   "source": [
    "DF.loc[DF['Neighborhood']=='New Hyde Park','Safety Rating'] = 'A-'"
   ]
  },
  {
   "cell_type": "code",
   "execution_count": 105,
   "id": "60deac6b",
   "metadata": {},
   "outputs": [],
   "source": [
    "DF.loc[DF['Neighborhood']=='NoHo','Safety Rating'] = 'A'"
   ]
  },
  {
   "cell_type": "code",
   "execution_count": 106,
   "id": "da302881",
   "metadata": {},
   "outputs": [],
   "source": [
    "DF.loc[DF['Neighborhood']=='Ocean Hill','Safety Rating'] = 'C-'"
   ]
  },
  {
   "cell_type": "code",
   "execution_count": 107,
   "id": "9b64fc6b",
   "metadata": {},
   "outputs": [],
   "source": [
    "DF.loc[DF['Neighborhood']=='Ozone Park','Safety Rating'] = 'B-'"
   ]
  },
  {
   "cell_type": "code",
   "execution_count": 108,
   "id": "a12812d8",
   "metadata": {},
   "outputs": [],
   "source": [
    "DF.loc[DF['Neighborhood']=='Park Slope','Safety Rating'] = 'A'"
   ]
  },
  {
   "cell_type": "code",
   "execution_count": 109,
   "id": "7fef11b4",
   "metadata": {},
   "outputs": [],
   "source": [
    "DF.loc[DF['Neighborhood']=='Parkchester','Safety Rating'] = 'C'"
   ]
  },
  {
   "cell_type": "code",
   "execution_count": 110,
   "id": "7baf6e05",
   "metadata": {},
   "outputs": [],
   "source": [
    "DF.loc[DF['Neighborhood']=='Pelham Bay','Safety Rating'] = 'C'"
   ]
  },
  {
   "cell_type": "code",
   "execution_count": 111,
   "id": "0adf4ec3",
   "metadata": {},
   "outputs": [],
   "source": [
    "DF.loc[DF['Neighborhood']=='Pelham Gardens','Safety Rating'] = 'B'"
   ]
  },
  {
   "cell_type": "code",
   "execution_count": 112,
   "id": "15b6d1e7",
   "metadata": {},
   "outputs": [],
   "source": [
    "DF.loc[DF['Neighborhood']=='Pelham Parkway','Safety Rating'] = 'B'"
   ]
  },
  {
   "cell_type": "code",
   "execution_count": 113,
   "id": "0aa34aed",
   "metadata": {},
   "outputs": [],
   "source": [
    "DF.loc[DF['Neighborhood']=='Port Richmond','Safety Rating'] = 'C+'"
   ]
  },
  {
   "cell_type": "code",
   "execution_count": 114,
   "id": "387367f1",
   "metadata": {},
   "outputs": [],
   "source": [
    "DF.loc[DF['Neighborhood']=='Prospect Park','Safety Rating'] = 'A'"
   ]
  },
  {
   "cell_type": "code",
   "execution_count": 115,
   "id": "7beaddd4",
   "metadata": {},
   "outputs": [],
   "source": [
    "DF.loc[DF['Neighborhood']=='Queens Village','Safety Rating'] = 'B'"
   ]
  },
  {
   "cell_type": "code",
   "execution_count": 116,
   "id": "43716d0b",
   "metadata": {},
   "outputs": [],
   "source": [
    "DF.loc[DF['Neighborhood']=='Red Hook','Safety Rating'] = 'B-'"
   ]
  },
  {
   "cell_type": "code",
   "execution_count": 117,
   "id": "794f8ee1",
   "metadata": {},
   "outputs": [],
   "source": [
    "DF.loc[DF['Neighborhood']=='Rego Park','Safety Rating'] = 'B+'"
   ]
  },
  {
   "cell_type": "code",
   "execution_count": 118,
   "id": "75729543",
   "metadata": {},
   "outputs": [],
   "source": [
    "DF.loc[DF['Neighborhood']=='Richmond Hill','Safety Rating'] = 'B'"
   ]
  },
  {
   "cell_type": "code",
   "execution_count": 119,
   "id": "e54dcb6f",
   "metadata": {},
   "outputs": [],
   "source": [
    "DF.loc[DF['Neighborhood']=='Ridgewood','Safety Rating'] = 'B+'"
   ]
  },
  {
   "cell_type": "code",
   "execution_count": 120,
   "id": "1dece30b",
   "metadata": {},
   "outputs": [],
   "source": [
    "DF.loc[DF['Neighborhood']=='Riverdale','Safety Rating'] = 'A-'"
   ]
  },
  {
   "cell_type": "code",
   "execution_count": 121,
   "id": "91b9e97a",
   "metadata": {},
   "outputs": [],
   "source": [
    "DF.loc[DF['Neighborhood']=='Rockaway','Safety Rating'] = 'B-'"
   ]
  },
  {
   "cell_type": "code",
   "execution_count": 122,
   "id": "f3d229af",
   "metadata": {},
   "outputs": [],
   "source": [
    "DF.loc[DF['Neighborhood']=='Rosedale','Safety Rating'] = 'B'"
   ]
  },
  {
   "cell_type": "code",
   "execution_count": 123,
   "id": "33ef6d38",
   "metadata": {},
   "outputs": [],
   "source": [
    "DF.loc[DF['Neighborhood']=='Schuylerville','Safety Rating'] = 'B'"
   ]
  },
  {
   "cell_type": "code",
   "execution_count": 124,
   "id": "07508b38",
   "metadata": {},
   "outputs": [],
   "source": [
    "DF.loc[DF['Neighborhood']=='Seagate','Safety Rating'] = 'B'"
   ]
  },
  {
   "cell_type": "code",
   "execution_count": 125,
   "id": "5934fb28",
   "metadata": {},
   "outputs": [],
   "source": [
    "DF.loc[DF['Neighborhood']=='Sheepshead Bay','Safety Rating'] = 'B+'"
   ]
  },
  {
   "cell_type": "code",
   "execution_count": 126,
   "id": "5646e137",
   "metadata": {},
   "outputs": [],
   "source": [
    "DF.loc[DF['Neighborhood']=='Soho','Safety Rating'] = 'A'"
   ]
  },
  {
   "cell_type": "code",
   "execution_count": 127,
   "id": "9c1af744",
   "metadata": {},
   "outputs": [],
   "source": [
    "DF.loc[DF['Neighborhood']=='Soundview','Safety Rating'] = 'C'"
   ]
  },
  {
   "cell_type": "code",
   "execution_count": 128,
   "id": "e7e94ec9",
   "metadata": {},
   "outputs": [],
   "source": [
    "DF.loc[DF['Neighborhood']=='South Shore','Safety Rating'] = 'B'"
   ]
  },
  {
   "cell_type": "code",
   "execution_count": 129,
   "id": "08cc9672",
   "metadata": {},
   "outputs": [],
   "source": [
    "DF.loc[DF['Neighborhood']=='South Street Seaport','Safety Rating'] = 'A'"
   ]
  },
  {
   "cell_type": "code",
   "execution_count": 130,
   "id": "666ac2af",
   "metadata": {},
   "outputs": [],
   "source": [
    "DF.loc[DF['Neighborhood']=='Springfield','Safety Rating'] = 'B'"
   ]
  },
  {
   "cell_type": "code",
   "execution_count": 131,
   "id": "b18d57d7",
   "metadata": {},
   "outputs": [],
   "source": [
    "DF.loc[DF['Neighborhood']=='Springfield Gardens','Safety Rating'] = 'B'"
   ]
  },
  {
   "cell_type": "code",
   "execution_count": 132,
   "id": "47c7d46f",
   "metadata": {},
   "outputs": [],
   "source": [
    "DF.loc[DF['Neighborhood']=='Stapleton','Safety Rating'] = 'B'"
   ]
  },
  {
   "cell_type": "code",
   "execution_count": 133,
   "id": "b70e5e15",
   "metadata": {},
   "outputs": [],
   "source": [
    "DF.loc[DF['Neighborhood']=='Stuyvesant Heights','Safety Rating'] = 'B'"
   ]
  },
  {
   "cell_type": "code",
   "execution_count": 134,
   "id": "b0479653",
   "metadata": {},
   "outputs": [],
   "source": [
    "DF.loc[DF['Neighborhood']=='Sunnyside','Safety Rating'] = 'B'"
   ]
  },
  {
   "cell_type": "code",
   "execution_count": 135,
   "id": "61c56816",
   "metadata": {},
   "outputs": [],
   "source": [
    "DF.loc[DF['Neighborhood']=='Sunset Park','Safety Rating'] = 'B'"
   ]
  },
  {
   "cell_type": "code",
   "execution_count": 136,
   "id": "ff08aeae",
   "metadata": {},
   "outputs": [],
   "source": [
    "DF.loc[DF['Neighborhood']=='Throggs Neck','Safety Rating'] = 'B'"
   ]
  },
  {
   "cell_type": "code",
   "execution_count": 137,
   "id": "c96c8d2e",
   "metadata": {},
   "outputs": [],
   "source": [
    "DF.loc[DF['Neighborhood']=='Tremont','Safety Rating'] = 'C'"
   ]
  },
  {
   "cell_type": "code",
   "execution_count": 138,
   "id": "fabc846f",
   "metadata": {},
   "outputs": [],
   "source": [
    "DF.loc[DF['Neighborhood']=='Tribeca','Safety Rating'] = 'A'"
   ]
  },
  {
   "cell_type": "code",
   "execution_count": 139,
   "id": "d10f2d5d",
   "metadata": {},
   "outputs": [],
   "source": [
    "DF.loc[DF['Neighborhood']=='Two Bridges','Safety Rating'] = 'B'"
   ]
  },
  {
   "cell_type": "code",
   "execution_count": 140,
   "id": "5aa83d04",
   "metadata": {},
   "outputs": [],
   "source": [
    "DF.loc[DF['Neighborhood']=='Upper East Side','Safety Rating'] = 'A'"
   ]
  },
  {
   "cell_type": "code",
   "execution_count": 141,
   "id": "b35680a9",
   "metadata": {},
   "outputs": [],
   "source": [
    "DF.loc[DF['Neighborhood']=='Upper West Side','Safety Rating'] = 'A'"
   ]
  },
  {
   "cell_type": "code",
   "execution_count": 142,
   "id": "bab7219d",
   "metadata": {},
   "outputs": [],
   "source": [
    "DF.loc[DF['Neighborhood']=='Van Nest','Safety Rating'] = 'C+'"
   ]
  },
  {
   "cell_type": "code",
   "execution_count": 143,
   "id": "9db5b183",
   "metadata": {},
   "outputs": [],
   "source": [
    "DF.loc[DF['Neighborhood']=='Vinegar Hill','Safety Rating'] = 'B'"
   ]
  },
  {
   "cell_type": "code",
   "execution_count": 144,
   "id": "21acbfba",
   "metadata": {},
   "outputs": [],
   "source": [
    "DF.loc[DF['Neighborhood']=='Wakefield','Safety Rating'] = 'B'"
   ]
  },
  {
   "cell_type": "code",
   "execution_count": 145,
   "id": "258f4951",
   "metadata": {},
   "outputs": [],
   "source": [
    "DF.loc[DF['Neighborhood']=='Washington Heights','Safety Rating'] = 'B'"
   ]
  },
  {
   "cell_type": "code",
   "execution_count": 146,
   "id": "29bfec83",
   "metadata": {},
   "outputs": [],
   "source": [
    "DF.loc[DF['Neighborhood']=='West Farms','Safety Rating'] = 'C'"
   ]
  },
  {
   "cell_type": "code",
   "execution_count": 147,
   "id": "03edd909",
   "metadata": {},
   "outputs": [],
   "source": [
    "DF.loc[DF['Neighborhood']=='Westchester Square','Safety Rating'] = 'B'"
   ]
  },
  {
   "cell_type": "code",
   "execution_count": 148,
   "id": "0ff2d66c",
   "metadata": {},
   "outputs": [],
   "source": [
    "DF.loc[DF['Neighborhood']=='Whitestone','Safety Rating'] = 'A'"
   ]
  },
  {
   "cell_type": "code",
   "execution_count": 149,
   "id": "3364dee5",
   "metadata": {},
   "outputs": [],
   "source": [
    "DF.loc[DF['Neighborhood']=='Williamsbridge','Safety Rating'] = 'C+'"
   ]
  },
  {
   "cell_type": "code",
   "execution_count": 150,
   "id": "ce68cb97",
   "metadata": {},
   "outputs": [],
   "source": [
    "DF.loc[DF['Neighborhood']=='Williamsburg','Safety Rating'] = 'B+'"
   ]
  },
  {
   "cell_type": "code",
   "execution_count": 151,
   "id": "3b6cadae",
   "metadata": {},
   "outputs": [],
   "source": [
    "DF.loc[DF['Neighborhood']=='Windsor Terrace','Safety Rating'] = 'A'"
   ]
  },
  {
   "cell_type": "code",
   "execution_count": 152,
   "id": "fc823cf1",
   "metadata": {},
   "outputs": [],
   "source": [
    "DF.loc[DF['Neighborhood']=='Woodhaven','Safety Rating'] = 'B'"
   ]
  },
  {
   "cell_type": "code",
   "execution_count": 153,
   "id": "865d7efc",
   "metadata": {},
   "outputs": [],
   "source": [
    "DF.loc[DF['Neighborhood']=='Woodlawn','Safety Rating'] = 'B'"
   ]
  },
  {
   "cell_type": "code",
   "execution_count": 154,
   "id": "4aeff5e1",
   "metadata": {},
   "outputs": [],
   "source": [
    "DF.loc[DF['Neighborhood']=='Woodside','Safety Rating'] = 'B'"
   ]
  },
  {
   "cell_type": "code",
   "execution_count": null,
   "id": "89bddd99",
   "metadata": {},
   "outputs": [],
   "source": [
    "DF.to_csv('/Users/winsontom/Desktop/Career Foundry/Part 8- Final CF Immersion/2.0 Project/Clean_Data.csv')"
   ]
  },
  {
   "cell_type": "code",
   "execution_count": null,
   "id": "1210f1a0",
   "metadata": {},
   "outputs": [],
   "source": []
  },
  {
   "cell_type": "code",
   "execution_count": null,
   "id": "cb878f48",
   "metadata": {},
   "outputs": [],
   "source": [
    "DF.to_excel'/Users/winsontom/Desktop/03 Scripts & Data/Safety_Rating_Updated_Neighborhoods.'"
   ]
  }
 ],
 "metadata": {
  "kernelspec": {
   "display_name": "Python 3 (ipykernel)",
   "language": "python",
   "name": "python3"
  },
  "language_info": {
   "codemirror_mode": {
    "name": "ipython",
    "version": 3
   },
   "file_extension": ".py",
   "mimetype": "text/x-python",
   "name": "python",
   "nbconvert_exporter": "python",
   "pygments_lexer": "ipython3",
   "version": "3.11.5"
  }
 },
 "nbformat": 4,
 "nbformat_minor": 5
}
