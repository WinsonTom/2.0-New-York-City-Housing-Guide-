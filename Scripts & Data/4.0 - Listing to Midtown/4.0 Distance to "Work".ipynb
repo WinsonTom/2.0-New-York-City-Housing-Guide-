{
 "cells": [
  {
   "cell_type": "code",
   "execution_count": 1,
   "id": "0477f56f",
   "metadata": {},
   "outputs": [],
   "source": [
    "import pandas as pd\n",
    "from geopy.distance import geodesic\n",
    "import numpy as np\n",
    "import os"
   ]
  },
  {
   "cell_type": "markdown",
   "id": "e9ce96f7",
   "metadata": {},
   "source": [
    "## Answering Business Quesiton # 7 of How far from the “city”?"
   ]
  },
  {
   "cell_type": "code",
   "execution_count": 2,
   "id": "1c7ccf4b",
   "metadata": {},
   "outputs": [],
   "source": [
    "#Load Data frame\n",
    "#xlsx file instead of csv so using this method of loading\n",
    "\n",
    "DF = pd.read_excel('/Users/winsontom/Desktop/Career Foundry/Part 8- Final CF Immersion/2.0 Project/2.0 Data/Location.xlsx', sheet_name='Sheet1')"
   ]
  },
  {
   "cell_type": "code",
   "execution_count": 3,
   "id": "8918dcd7",
   "metadata": {},
   "outputs": [
    {
     "data": {
      "text/html": [
       "<div>\n",
       "<style scoped>\n",
       "    .dataframe tbody tr th:only-of-type {\n",
       "        vertical-align: middle;\n",
       "    }\n",
       "\n",
       "    .dataframe tbody tr th {\n",
       "        vertical-align: top;\n",
       "    }\n",
       "\n",
       "    .dataframe thead th {\n",
       "        text-align: right;\n",
       "    }\n",
       "</style>\n",
       "<table border=\"1\" class=\"dataframe\">\n",
       "  <thead>\n",
       "    <tr style=\"text-align: right;\">\n",
       "      <th></th>\n",
       "      <th>latitude1</th>\n",
       "      <th>longitude1</th>\n",
       "      <th>latitude2</th>\n",
       "      <th>longitude2</th>\n",
       "    </tr>\n",
       "  </thead>\n",
       "  <tbody>\n",
       "    <tr>\n",
       "      <th>0</th>\n",
       "      <td>40.761255</td>\n",
       "      <td>-73.974483</td>\n",
       "      <td>40.748817</td>\n",
       "      <td>-73.985428</td>\n",
       "    </tr>\n",
       "    <tr>\n",
       "      <th>1</th>\n",
       "      <td>40.766393</td>\n",
       "      <td>-73.980991</td>\n",
       "      <td>40.748817</td>\n",
       "      <td>-73.985428</td>\n",
       "    </tr>\n",
       "    <tr>\n",
       "      <th>2</th>\n",
       "      <td>40.541805</td>\n",
       "      <td>-74.196109</td>\n",
       "      <td>40.748817</td>\n",
       "      <td>-73.985428</td>\n",
       "    </tr>\n",
       "    <tr>\n",
       "      <th>3</th>\n",
       "      <td>40.761398</td>\n",
       "      <td>-73.974613</td>\n",
       "      <td>40.748817</td>\n",
       "      <td>-73.985428</td>\n",
       "    </tr>\n",
       "    <tr>\n",
       "      <th>4</th>\n",
       "      <td>40.767224</td>\n",
       "      <td>-73.969856</td>\n",
       "      <td>40.748817</td>\n",
       "      <td>-73.985428</td>\n",
       "    </tr>\n",
       "    <tr>\n",
       "      <th>5</th>\n",
       "      <td>40.674363</td>\n",
       "      <td>-73.958725</td>\n",
       "      <td>40.748817</td>\n",
       "      <td>-73.985428</td>\n",
       "    </tr>\n",
       "    <tr>\n",
       "      <th>6</th>\n",
       "      <td>40.809448</td>\n",
       "      <td>-73.946777</td>\n",
       "      <td>40.748817</td>\n",
       "      <td>-73.985428</td>\n",
       "    </tr>\n",
       "    <tr>\n",
       "      <th>7</th>\n",
       "      <td>40.595002</td>\n",
       "      <td>-74.106424</td>\n",
       "      <td>40.748817</td>\n",
       "      <td>-73.985428</td>\n",
       "    </tr>\n",
       "    <tr>\n",
       "      <th>8</th>\n",
       "      <td>40.821586</td>\n",
       "      <td>-73.874089</td>\n",
       "      <td>40.748817</td>\n",
       "      <td>-73.985428</td>\n",
       "    </tr>\n",
       "    <tr>\n",
       "      <th>9</th>\n",
       "      <td>40.615738</td>\n",
       "      <td>-73.969694</td>\n",
       "      <td>40.748817</td>\n",
       "      <td>-73.985428</td>\n",
       "    </tr>\n",
       "  </tbody>\n",
       "</table>\n",
       "</div>"
      ],
      "text/plain": [
       "   latitude1  longitude1  latitude2  longitude2\n",
       "0  40.761255  -73.974483  40.748817  -73.985428\n",
       "1  40.766393  -73.980991  40.748817  -73.985428\n",
       "2  40.541805  -74.196109  40.748817  -73.985428\n",
       "3  40.761398  -73.974613  40.748817  -73.985428\n",
       "4  40.767224  -73.969856  40.748817  -73.985428\n",
       "5  40.674363  -73.958725  40.748817  -73.985428\n",
       "6  40.809448  -73.946777  40.748817  -73.985428\n",
       "7  40.595002  -74.106424  40.748817  -73.985428\n",
       "8  40.821586  -73.874089  40.748817  -73.985428\n",
       "9  40.615738  -73.969694  40.748817  -73.985428"
      ]
     },
     "execution_count": 3,
     "metadata": {},
     "output_type": "execute_result"
    }
   ],
   "source": [
    "#checking file to see coordinates\n",
    "\n",
    "DF.head(10)"
   ]
  },
  {
   "cell_type": "code",
   "execution_count": 8,
   "id": "12112c46",
   "metadata": {},
   "outputs": [
    {
     "data": {
      "text/plain": [
       "Index(['latitude1', 'longitude1', 'latitude2', 'longitude2'], dtype='object')"
      ]
     },
     "execution_count": 8,
     "metadata": {},
     "output_type": "execute_result"
    }
   ],
   "source": [
    "#View column names\n",
    "DF.columns"
   ]
  },
  {
   "cell_type": "code",
   "execution_count": null,
   "id": "c8c69d20",
   "metadata": {},
   "outputs": [],
   "source": [
    "#latitude1 is the latitude of the \"home address\" otherwise the starting point\n",
    "#longitude1 is the longitude of the \"home address\" otherwise the starting point\n",
    "\n",
    "#latitude2 is the latitude of the Empire State building\n",
    "#longitude2 is the longitude of the Empire State Building\n",
    "\n",
    "#Empire State building is in Midtown Manhattan, commonly known as the \"working area\" where majority of New Yorkers\n",
    "#will work around or be very close. We intentionally chose this location as it is going to reflect most individual\n",
    "#concern of how far do they have to travel to work"
   ]
  },
  {
   "cell_type": "code",
   "execution_count": 9,
   "id": "d3d6c694",
   "metadata": {},
   "outputs": [],
   "source": [
    "#Create a column named Distance to Midtown, coordinates are the rows specified, return the distance between \n",
    "#Home & Empire state Building.\n",
    "#Result will be a cell showing miles reflecting the distance from work \n",
    "\n",
    "def Distance_to_Midtown(row):\n",
    "    coords_1 = (row['latitude1'], row['longitude1'])\n",
    "    coords_2 = (row['latitude2'], row['longitude2'])\n",
    "    return geodesic(coords_1, coords_2).miles"
   ]
  },
  {
   "cell_type": "code",
   "execution_count": 13,
   "id": "c179cd9c",
   "metadata": {},
   "outputs": [],
   "source": [
    "#Defining/Naming column , applying formula from one cell to the entire column\n",
    "DF['Distance_to_Midtown'] = DF.apply(Distance_to_Midtown, axis=1)"
   ]
  },
  {
   "cell_type": "code",
   "execution_count": 15,
   "id": "5d60c7ea",
   "metadata": {},
   "outputs": [
    {
     "data": {
      "text/plain": [
       "0      1.032683\n",
       "1      1.234970\n",
       "2     18.073414\n",
       "3      1.037144\n",
       "4      1.510213\n",
       "        ...    \n",
       "95    10.701360\n",
       "96    11.998107\n",
       "97     2.306524\n",
       "98     8.808749\n",
       "99    20.630119\n",
       "Name: Distance_to_Midtown, Length: 100, dtype: float64"
      ]
     },
     "execution_count": 15,
     "metadata": {},
     "output_type": "execute_result"
    }
   ],
   "source": [
    "#checking column is successfully created\n",
    "DF['Distance_to_Midtown'].head(100)"
   ]
  },
  {
   "cell_type": "code",
   "execution_count": 17,
   "id": "edaed4bf",
   "metadata": {},
   "outputs": [
    {
     "data": {
      "text/html": [
       "<div>\n",
       "<style scoped>\n",
       "    .dataframe tbody tr th:only-of-type {\n",
       "        vertical-align: middle;\n",
       "    }\n",
       "\n",
       "    .dataframe tbody tr th {\n",
       "        vertical-align: top;\n",
       "    }\n",
       "\n",
       "    .dataframe thead th {\n",
       "        text-align: right;\n",
       "    }\n",
       "</style>\n",
       "<table border=\"1\" class=\"dataframe\">\n",
       "  <thead>\n",
       "    <tr style=\"text-align: right;\">\n",
       "      <th></th>\n",
       "      <th>latitude1</th>\n",
       "      <th>longitude1</th>\n",
       "      <th>latitude2</th>\n",
       "      <th>longitude2</th>\n",
       "      <th>Distance_to_Midtown</th>\n",
       "    </tr>\n",
       "  </thead>\n",
       "  <tbody>\n",
       "    <tr>\n",
       "      <th>0</th>\n",
       "      <td>40.761255</td>\n",
       "      <td>-73.974483</td>\n",
       "      <td>40.748817</td>\n",
       "      <td>-73.985428</td>\n",
       "      <td>1.032683</td>\n",
       "    </tr>\n",
       "    <tr>\n",
       "      <th>1</th>\n",
       "      <td>40.766393</td>\n",
       "      <td>-73.980991</td>\n",
       "      <td>40.748817</td>\n",
       "      <td>-73.985428</td>\n",
       "      <td>1.234970</td>\n",
       "    </tr>\n",
       "    <tr>\n",
       "      <th>2</th>\n",
       "      <td>40.541805</td>\n",
       "      <td>-74.196109</td>\n",
       "      <td>40.748817</td>\n",
       "      <td>-73.985428</td>\n",
       "      <td>18.073414</td>\n",
       "    </tr>\n",
       "    <tr>\n",
       "      <th>3</th>\n",
       "      <td>40.761398</td>\n",
       "      <td>-73.974613</td>\n",
       "      <td>40.748817</td>\n",
       "      <td>-73.985428</td>\n",
       "      <td>1.037144</td>\n",
       "    </tr>\n",
       "    <tr>\n",
       "      <th>4</th>\n",
       "      <td>40.767224</td>\n",
       "      <td>-73.969856</td>\n",
       "      <td>40.748817</td>\n",
       "      <td>-73.985428</td>\n",
       "      <td>1.510213</td>\n",
       "    </tr>\n",
       "  </tbody>\n",
       "</table>\n",
       "</div>"
      ],
      "text/plain": [
       "   latitude1  longitude1  latitude2  longitude2  Distance_to_Midtown\n",
       "0  40.761255  -73.974483  40.748817  -73.985428             1.032683\n",
       "1  40.766393  -73.980991  40.748817  -73.985428             1.234970\n",
       "2  40.541805  -74.196109  40.748817  -73.985428            18.073414\n",
       "3  40.761398  -73.974613  40.748817  -73.985428             1.037144\n",
       "4  40.767224  -73.969856  40.748817  -73.985428             1.510213"
      ]
     },
     "execution_count": 17,
     "metadata": {},
     "output_type": "execute_result"
    }
   ],
   "source": [
    "#Checking to see if the full data looks correct\n",
    "\n",
    "DF.head(5)"
   ]
  },
  {
   "cell_type": "code",
   "execution_count": 16,
   "id": "58d19c71",
   "metadata": {},
   "outputs": [],
   "source": [
    "#Saving Excel File\n",
    "\n",
    "DF.to_excel(r'/Users/winsontom/Desktop/Career Foundry/Part 8- Final CF Immersion/2.0 Project/Distance_To_Midtown.xlsx', index=False)"
   ]
  },
  {
   "cell_type": "code",
   "execution_count": null,
   "id": "b67e01e8",
   "metadata": {},
   "outputs": [],
   "source": []
  }
 ],
 "metadata": {
  "kernelspec": {
   "display_name": "Python 3 (ipykernel)",
   "language": "python",
   "name": "python3"
  },
  "language_info": {
   "codemirror_mode": {
    "name": "ipython",
    "version": 3
   },
   "file_extension": ".py",
   "mimetype": "text/x-python",
   "name": "python",
   "nbconvert_exporter": "python",
   "pygments_lexer": "ipython3",
   "version": "3.11.5"
  }
 },
 "nbformat": 4,
 "nbformat_minor": 5
}
